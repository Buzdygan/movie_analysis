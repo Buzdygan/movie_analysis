{
 "cells": [
  {
   "cell_type": "code",
   "execution_count": 8,
   "metadata": {},
   "outputs": [],
   "source": [
    "from bs4 import BeautifulSoup\n",
    "import requests as rq \n",
    "import dateparser\n",
    "import sqlite3\n",
    "from collections import namedtuple\n"
   ]
  },
  {
   "cell_type": "code",
   "execution_count": 2,
   "metadata": {},
   "outputs": [],
   "source": [
    "OMDB_API_KEY = '76708f51'"
   ]
  },
  {
   "cell_type": "code",
   "execution_count": 8,
   "metadata": {},
   "outputs": [],
   "source": [
    "resp = rq.get('http://www.omdbapi.com/?i=tt3896198&apikey=76708f51&tomatoes=true')"
   ]
  },
  {
   "cell_type": "code",
   "execution_count": 8,
   "metadata": {},
   "outputs": [],
   "source": [
    "resp = rq.get('http://www.omdbapi.com/?i=nm0000198&apikey=76708f51')"
   ]
  },
  {
   "cell_type": "code",
   "execution_count": 11,
   "metadata": {},
   "outputs": [
    {
     "data": {
      "text/plain": [
       "{'_content': b'{\"Response\":\"False\",\"Error\":\"Error converting data type varchar to int.\"}',\n",
       " '_content_consumed': True,\n",
       " '_next': None,\n",
       " 'status_code': 200,\n",
       " 'headers': {'Date': 'Sat, 26 Jan 2019 15:54:23 GMT', 'Content-Type': 'application/json; charset=utf-8', 'Transfer-Encoding': 'chunked', 'Connection': 'keep-alive', 'Set-Cookie': '__cfduid=df2448e915542483a98339e6f31b086c61548518063; expires=Sun, 26-Jan-20 15:54:23 GMT; path=/; domain=.omdbapi.com; HttpOnly', 'Cache-Control': 'public, max-age=86400', 'Expires': 'Sun, 27 Jan 2019 15:54:23 GMT', 'Last-Modified': 'Sat, 26 Jan 2019 15:53:52 GMT', 'Vary': '*, Accept-Encoding', 'X-AspNet-Version': '4.0.30319', 'X-Powered-By': 'ASP.NET', 'Access-Control-Allow-Origin': '*', 'CF-Cache-Status': 'HIT', 'Server': 'cloudflare', 'CF-RAY': '49f4286ae1296afb-WAW', 'Content-Encoding': 'gzip'},\n",
       " 'raw': <urllib3.response.HTTPResponse at 0x1102d7978>,\n",
       " 'url': 'http://www.omdbapi.com/?i=nm0000198&apikey=76708f51',\n",
       " 'encoding': 'utf-8',\n",
       " 'history': [],\n",
       " 'reason': 'OK',\n",
       " 'cookies': <RequestsCookieJar[Cookie(version=0, name='__cfduid', value='df2448e915542483a98339e6f31b086c61548518063', port=None, port_specified=False, domain='.omdbapi.com', domain_specified=True, domain_initial_dot=True, path='/', path_specified=True, secure=False, expires=1580054063, discard=False, comment=None, comment_url=None, rest={'HttpOnly': None}, rfc2109=False)]>,\n",
       " 'elapsed': datetime.timedelta(microseconds=37950),\n",
       " 'request': <PreparedRequest [GET]>,\n",
       " 'connection': <requests.adapters.HTTPAdapter at 0x110aec550>}"
      ]
     },
     "execution_count": 11,
     "metadata": {},
     "output_type": "execute_result"
    }
   ],
   "source": [
    "resp.__dict__"
   ]
  },
  {
   "cell_type": "code",
   "execution_count": 9,
   "metadata": {},
   "outputs": [
    {
     "data": {
      "text/plain": [
       "{'Title': 'Guardians of the Galaxy Vol. 2',\n",
       " 'Year': '2017',\n",
       " 'Rated': 'PG-13',\n",
       " 'Released': '05 May 2017',\n",
       " 'Runtime': '136 min',\n",
       " 'Genre': 'Action, Adventure, Comedy, Sci-Fi',\n",
       " 'Director': 'James Gunn',\n",
       " 'Writer': 'James Gunn, Dan Abnett (based on the Marvel comics by), Andy Lanning (based on the Marvel comics by), Steve Englehart (Star-Lord created by), Steve Gan (Star-Lord created by), Jim Starlin (Gamora and Drax created by), Stan Lee (Groot created by), Larry Lieber (Groot created by), Jack Kirby (Groot created by), Bill Mantlo (Rocket Raccoon created by), Keith Giffen (Rocket Raccoon created by), Steve Gerber (Howard the Duck created by), Val Mayerik (Howard the Duck created by)',\n",
       " 'Actors': 'Chris Pratt, Zoe Saldana, Dave Bautista, Vin Diesel',\n",
       " 'Plot': \"The Guardians must fight to keep their newfound family together as they unravel the mystery of Peter Quill's true parentage.\",\n",
       " 'Language': 'English',\n",
       " 'Country': 'USA',\n",
       " 'Awards': 'Nominated for 1 Oscar. Another 12 wins & 42 nominations.',\n",
       " 'Poster': 'https://m.media-amazon.com/images/M/MV5BMTg2MzI1MTg3OF5BMl5BanBnXkFtZTgwNTU3NDA2MTI@._V1_SX300.jpg',\n",
       " 'Ratings': [{'Source': 'Internet Movie Database', 'Value': '7.7/10'},\n",
       "  {'Source': 'Rotten Tomatoes', 'Value': '83%'},\n",
       "  {'Source': 'Metacritic', 'Value': '67/100'}],\n",
       " 'Metascore': '67',\n",
       " 'imdbRating': '7.7',\n",
       " 'imdbVotes': '431,166',\n",
       " 'imdbID': 'tt3896198',\n",
       " 'Type': 'movie',\n",
       " 'tomatoMeter': 'N/A',\n",
       " 'tomatoImage': 'N/A',\n",
       " 'tomatoRating': 'N/A',\n",
       " 'tomatoReviews': 'N/A',\n",
       " 'tomatoFresh': 'N/A',\n",
       " 'tomatoRotten': 'N/A',\n",
       " 'tomatoConsensus': 'N/A',\n",
       " 'tomatoUserMeter': 'N/A',\n",
       " 'tomatoUserRating': 'N/A',\n",
       " 'tomatoUserReviews': 'N/A',\n",
       " 'tomatoURL': 'http://www.rottentomatoes.com/m/guardians_of_the_galaxy_vol_2/',\n",
       " 'DVD': '22 Aug 2017',\n",
       " 'BoxOffice': '$389,804,217',\n",
       " 'Production': 'Walt Disney Pictures',\n",
       " 'Website': 'https://marvel.com/guardians',\n",
       " 'Response': 'True'}"
      ]
     },
     "execution_count": 9,
     "metadata": {},
     "output_type": "execute_result"
    }
   ],
   "source": [
    "resp.json()"
   ]
  },
  {
   "cell_type": "code",
   "execution_count": 132,
   "metadata": {},
   "outputs": [],
   "source": [
    "Review = namedtuple('Review', ['movie_url', 'reviewer_type', 'reviewer_name', 'reviewer_url', 'rating', 'text', 'date'])"
   ]
  },
  {
   "cell_type": "code",
   "execution_count": 133,
   "metadata": {},
   "outputs": [],
   "source": [
    "TYPE_CRITIC = 'critic'\n",
    "TYPE_USER = 'user'"
   ]
  },
  {
   "cell_type": "code",
   "execution_count": 48,
   "metadata": {},
   "outputs": [],
   "source": [
    "# class that grabs Rotten Tomatoes scores and link to reviews page\n",
    "class RTMovie:\n",
    "\n",
    "    # initialized to website of movie on Rotten Tomatoes\n",
    "    def __init__(self, url):\n",
    "        self.reviewUrl = ''\n",
    "        self.set = False\n",
    "        self.url = url\n",
    "        self.page = rq.get(url).text\n",
    "        self.soup = BeautifulSoup(self.page, 'lxml')\n",
    "\n",
    "    # get the url for the first page of movie reviews\n",
    "    def getReviewUrl(self):\n",
    "        if not self.set:\n",
    "            self.buildReviewUrl()\n",
    "        return self.reviewUrl\n",
    "\n",
    "    # Tomatometer score\n",
    "    def criticScore(self):\n",
    "        meter = \"meter-value superPageFontColor\"\n",
    "        score = self.soup.find('span', {'class': meter})\n",
    "\n",
    "        return score.text\n",
    "\n",
    "    def audienceScore(self):\n",
    "        audience_meter = \"audience-score meter\"\n",
    "        audience_score = \"superPageFontColor\"\n",
    "\n",
    "        meter = self.soup.find('div', {'class': audience_meter})\n",
    "        score = meter.find('span', {'class': audience_score})\n",
    "\n",
    "        return score.text\n",
    "\n",
    "    # helper function for getting the review url\n",
    "    def buildReviewUrl(self, set=False):\n",
    "        if self.url[-1] != '/':\n",
    "            self.url = self.url + '/'\n",
    "        self.reviewUrl = self.url + \"reviews/?type=user\"\n",
    "        return"
   ]
  },
  {
   "cell_type": "code",
   "execution_count": 49,
   "metadata": {},
   "outputs": [],
   "source": [
    "# Audience Reviews inherits from RTScore\n",
    "class BaseReviews(RTScore):\n",
    "\n",
    "    def __init__(self, movie_url):\n",
    "        RTScore.__init__(self, url)\n",
    "        self.url = url\n",
    "        self.paging = 0\n",
    "        self.curSoup = self.soup \n",
    "        self.nextPageUrl = url\n",
    "\n",
    "    # to get the url of the next page\n",
    "    def nextPage(self):\n",
    "        paging = 'pageInfo'\n",
    "        base_url = \"https://www.rottentomatoes.com\"\n",
    "        page_section = self.curSoup.find('span', {'class': paging})\n",
    "        next_page = ''\n",
    "        # return page_section\n",
    "\n",
    "        try:\n",
    "            next_page = page_section.findNext('a', {'class': 'btn btn-xs btn-primary-rt'})['href']\n",
    "        except:\n",
    "            self.nextPageUrl = None\n",
    "            return\n",
    "\n",
    "        self.paging += 1\n",
    "        self.nextPageUrl = base_url + next_page\n",
    "        # print(self.nextPageUrl)\n",
    "        return self.nextPageUrl\n",
    "\n",
    "    def getReviews(self):\n",
    "        raise NotImplemented"
   ]
  },
  {
   "cell_type": "code",
   "execution_count": 50,
   "metadata": {},
   "outputs": [],
   "source": [
    "# Audience Reviews inherits from RTScore\n",
    "class AudienceReviews(BaseReviews):\n",
    "    def getReviews(self):\n",
    "\t\treviews = self.curSoup.find('div', {'id': 'reviews'})\n",
    "\t\tcur = reviews.findNext('div', {'class': 'user_review'})\n",
    "\n",
    "\t\treview_list = []\n",
    "\n",
    "\t\twhile cur:\n",
    "\t\t\treview_list.append(cur.text.strip())\n",
    "\t\t\tcur = cur.findNext('div', {'class': 'user_review'})\n",
    "\t\treturn review_list"
   ]
  },
  {
   "cell_type": "code",
   "execution_count": null,
   "metadata": {},
   "outputs": [],
   "source": [
    "# Audience Reviews inherits from RTScore\n",
    "class CriticReviews(RTScore):\n",
    "    def getReviews(self):\n",
    "        review_list = []\n",
    "        reviews = self.curSoup.find('div', {'id': 'reviews'})\n",
    "        review = reviews.findNext('div', {'class': 'row review_table_row'})\n",
    "        while review:\n",
    "            critic = review.find('div', {'class': 'critic_name'}).find('a', {'class': 'articleLink'})\n",
    "            critic_name = critic.text.strip()\n",
    "            critic_url = critic.get('href')\n",
    "            date = review.find('div', {'class': 'review_date'}).text.strip()\n",
    "            text = review.find('div', {'class': 'the_review'}).text.strip()\n",
    "            rating = int(bool(review.find('div', {'class': 'fresh'})))\n",
    "            review_list.append(Review(self.movie_url, TYPE_CRITIC, critic_name, critic_url, rating, text, date))\n",
    "            review = review.findNext('div', {'class': 'row review_table_row'})\n",
    "        return review_list"
   ]
  },
  {
   "cell_type": "code",
   "execution_count": 8,
   "metadata": {},
   "outputs": [],
   "source": [
    "class Reviews():\n",
    "    \n",
    "\n",
    "\tdef __init__(self, movie_url, limit=10):\n",
    "        if rev_type == 'user':\n",
    "            url += '?type=user'\n",
    "            self.page = AudienceReviews(url)\n",
    "        elif rev_type == 'critic':    \n",
    "            self.page = CriticReviews(url)\n",
    "        else:\n",
    "            raise Exception(\"Unknown rev_type: %s\" % rev_type)\n",
    "\t\tself.limit = limit\n",
    "\t\tself.reviews = []\n",
    "\n",
    "\n",
    "\t# helper function to page for reviews, outputs as an array of reviews\n",
    "\tdef getReviews(self):\n",
    "\t\tfor i in range(self.limit):\n",
    "\t\t\tself.reviews += self.page.getReviews()\n",
    "\t\t\tnext_page = self.page.nextPage()\n",
    "\n",
    "\t\t\tif next_page:\n",
    "\t\t\t\tself.page = AudienceReviews(next_page)\n",
    "\t\t\telse:\n",
    "\t\t\t\tbreak\n",
    "\n",
    "\t\t# return ''.join(self.reviews)\n",
    "\t\treturn self.reviews"
   ]
  },
  {
   "cell_type": "code",
   "execution_count": 40,
   "metadata": {},
   "outputs": [],
   "source": [
    "page = RTScore('https://www.rottentomatoes.com/m/cold_war_2018/')\n",
    "critic_score = page.criticScore()\n",
    "audience_score = page.audienceScore()\n",
    "cw_reviews = TextReviews(page.getReviewUrl(), limit=10)"
   ]
  },
  {
   "cell_type": "code",
   "execution_count": 37,
   "metadata": {},
   "outputs": [],
   "source": [
    "reviews = cw_reviews.getReviews()"
   ]
  },
  {
   "cell_type": "code",
   "execution_count": 36,
   "metadata": {},
   "outputs": [],
   "source": [
    "soup = BeautifulSoup(rq.get('https://www.rottentomatoes.com/m/cold_war_2018/reviews/?page=9').text, 'lxml')"
   ]
  },
  {
   "cell_type": "code",
   "execution_count": 37,
   "metadata": {},
   "outputs": [],
   "source": [
    "page_section = soup.find('span', {'class': 'pageInfo'})"
   ]
  },
  {
   "cell_type": "code",
   "execution_count": 39,
   "metadata": {},
   "outputs": [],
   "source": [
    "next_page = page_section.findNext('a', {'class': 'btn btn-xs btn-primary-rt'})"
   ]
  },
  {
   "cell_type": "code",
   "execution_count": 40,
   "metadata": {},
   "outputs": [
    {
     "data": {
      "text/plain": [
       "<a class=\"btn btn-xs btn-primary-rt\" href=\"/m/cold_war_2018/reviews/?page=8&amp;sort=\"><span class=\"glyphicon glyphicon-chevron-left\"></span></a>"
      ]
     },
     "execution_count": 40,
     "metadata": {},
     "output_type": "execute_result"
    }
   ],
   "source": [
    "next_page"
   ]
  },
  {
   "cell_type": "code",
   "execution_count": 42,
   "metadata": {},
   "outputs": [],
   "source": [
    "r = rq.get('https://www.rottentomatoes.com/m/cold_war_2018/reviews/?page=10')"
   ]
  },
  {
   "cell_type": "code",
   "execution_count": 44,
   "metadata": {},
   "outputs": [
    {
     "data": {
      "text/plain": [
       "False"
      ]
     },
     "execution_count": 44,
     "metadata": {},
     "output_type": "execute_result"
    }
   ],
   "source": [
    "r.ok"
   ]
  },
  {
   "cell_type": "markdown",
   "metadata": {},
   "source": [
    "# Critic Reviews"
   ]
  },
  {
   "cell_type": "code",
   "execution_count": 2,
   "metadata": {},
   "outputs": [],
   "source": [
    "page_text = rq.get('https://www.rottentomatoes.com/m/cold_war_2018/reviews/').text"
   ]
  },
  {
   "cell_type": "code",
   "execution_count": 3,
   "metadata": {},
   "outputs": [],
   "source": [
    "soup = BeautifulSoup(page_text, 'lxml')"
   ]
  },
  {
   "cell_type": "code",
   "execution_count": 5,
   "metadata": {},
   "outputs": [],
   "source": [
    "reviews = soup.find('div', {'id': 'reviews'})"
   ]
  },
  {
   "cell_type": "code",
   "execution_count": 55,
   "metadata": {
    "collapsed": true
   },
   "outputs": [
    {
     "data": {
      "text/plain": [
       "<div id=\"reviews\"> <ul class=\"nav nav-tabs hidden-xs\"> <li class=\"active\"><a href=\"/m/cold_war_2018/reviews/\">All Critics</a></li> <li><a href=\"/m/cold_war_2018/reviews/?type=top_critics\">Top Critics</a></li> <li><a href=\"/m/cold_war_2018/reviews/?type=my_critics\">My Critics</a></li> <li><a href=\"/m/cold_war_2018/reviews/?type=user\">Audience</a></li> </ul> <div class=\"visible-xs btn-group review_title\"> <button aria-expanded=\"false\" class=\"dropdown-toggle btn btn-default\" data-toggle=\"dropdown\" type=\"button\"> All Critics<span class=\"fontelloIcon icon-down-dir\"></span> </button> <ul class=\"dropdown-menu\" role=\"menu\"> <li class=\"active\"><a href=\"/m/cold_war_2018/reviews/\">All Critics</a></li> <li><a href=\"/m/cold_war_2018/reviews/?type=top_critics\">Top Critics</a></li> <li><a href=\"/m/cold_war_2018/reviews/?type=my_critics\">My Critics</a></li> <li><a href=\"/m/cold_war_2018/reviews/?type=user\">Audience</a></li> </ul> </div> <div class=\"content\"> <div style=\"display:inline-block; float:right; padding-bottom:10px\"> <a class=\"btn btn-xs btn-primary-rt disabled\" href=\"#\"><span class=\"glyphicon glyphicon-chevron-left\"></span></a><span class=\"pageInfo\">Page 1 of 9</span> <a class=\"btn btn-xs btn-primary-rt\" href=\"/m/cold_war_2018/reviews/?page=2&amp;sort=\"><span class=\"glyphicon glyphicon-chevron-right\"></span></a></div> <div class=\"sort_select\"></div> <div class=\"clearfix\"></div> <div class=\"review_table\"> <div class=\"row review_table_row\"> <div class=\"col-xs-8\"> <div class=\"col-sm-7 col-xs-16 critic_img\"> <img class=\"critic_thumb fullWidth\" src=\"https://resizing.flixster.com/N94A2EYKkON441hZSekPRyUNQYk=/72x72/v1.YzsyNzkxO2c7MTc5NTY7MjA0ODsxNTA7MTUw\" width=\"50px\"/> </div> <div class=\"col-sm-4 col-xs-8 top_critic col-sm-push-13\"> </div> <div class=\"col-sm-13 col-xs-24 col-sm-pull-4 critic_name\"> <a class=\"unstyled bold articleLink\" href=\"/critic/jeffrey-edalatpour/\">Jeffrey Edalatpour</a> <br/> <a href=\"/source-2398\"> <em class=\"subtle\">KQED (San Francisco)</em> </a> </div> </div> <div class=\"col-xs-16 review_container\"> <div class=\"review_icon icon small fresh\"></div> <div class=\"review_area\"> <div class=\"review_date subtle small\"> January 24, 2019</div> <div class=\"review_desc\"> <div class=\"the_review\"> Cold War is filled with remarkably staged scenes that linger in the viewer's consciousness for days.</div> <div class=\"small subtle\"> <a href=\"https://www.kqed.org/arts/13848915/an-eastern-blocked-romance-in-pawel-pawlikowskis-cold-war\" rel=\"nofollow\" target=\"_blank\">Full Review</a> </div> </div> </div> </div> </div> <div class=\"row review_table_row\"> <div class=\"col-xs-8\"> <div class=\"col-sm-7 col-xs-16 critic_img\"> <img class=\"critic_thumb fullWidth\" src=\"https://resizing.flixster.com/-t6kHKFqvoTCysUqaTYIrogedz8=/72x72/v1.YzsxNTkxO2c7MTc5NzE7MjA0ODszODs0OA\" width=\"50px\"/> </div> <div class=\"col-sm-4 col-xs-8 top_critic col-sm-push-13\"> </div> <div class=\"col-sm-13 col-xs-24 col-sm-pull-4 critic_name\"> <a class=\"unstyled bold articleLink\" href=\"/critic/robert-denerstein/\">Robert Denerstein</a> <br/> <a href=\"/source-2866\"> <em class=\"subtle\">Denerstein Unleashed</em> </a> </div> </div> <div class=\"col-xs-16 review_container\"> <div class=\"review_icon icon small fresh\"></div> <div class=\"review_area\"> <div class=\"review_date subtle small\"> January 24, 2019</div> <div class=\"review_desc\"> <div class=\"the_review\"> In this impossible situation, a powerful but stammering, 15-year love affair gives the movie its emotional weight.</div> <div class=\"small subtle\"> <a href=\"http://denersteinunleashed.blogspot.com/2019/01/hot-love-during-cold-war.html\" rel=\"nofollow\" target=\"_blank\">Full Review</a> </div> </div> </div> </div> </div> <div class=\"row review_table_row\"> <div class=\"col-xs-8\"> <div class=\"col-sm-7 col-xs-16 critic_img\"> <img class=\"critic_thumb fullWidth\" src=\"https://resizing.flixster.com/Jku4nWqGAGC2g3j_ilDF9kFQHBs=/72x72/v1.YzsxNzQ5O2c7MTc5OTQ7MjA0ODszODs0Mg\" width=\"50px\"/> </div> <div class=\"col-sm-4 col-xs-8 top_critic col-sm-push-13\"> </div> <div class=\"col-sm-13 col-xs-24 col-sm-pull-4 critic_name\"> <a class=\"unstyled bold articleLink\" href=\"/critic/beth-accomando/\">Beth Accomando</a> <br/> <a href=\"/source-1346\"> <em class=\"subtle\">KPBS.org</em> </a> </div> </div> <div class=\"col-xs-16 review_container\"> <div class=\"review_icon icon small fresh\"></div> <div class=\"review_area\"> <div class=\"review_date subtle small\"> January 24, 2019</div> <div class=\"review_desc\"> <div class=\"the_review\"> [Cold War] was one of the best films of last year and it is easy to fall in love with.</div> <div class=\"small subtle\"> <a href=\"https://www.kpbs.org/news/2019/jan/24/oscar-nominated-cold-war-opens-hillcrest-cinemas/\" rel=\"nofollow\" target=\"_blank\">Full Review</a> </div> </div> </div> </div> </div> <div class=\"row review_table_row\"> <div class=\"col-xs-8\"> <div class=\"col-sm-7 col-xs-16 critic_img\"> <img class=\"critic_thumb fullWidth\" src=\"https://resizing.flixster.com/sM1-AuBWvDQCnqWUeFq8e50nmOM=/72x72/v1.YzsyNjUxO2c7MTc5OTY7MjA0ODsxNTA7MTUw\" width=\"50px\"/> </div> <div class=\"col-sm-4 col-xs-8 top_critic col-sm-push-13\"> </div> <div class=\"col-sm-13 col-xs-24 col-sm-pull-4 critic_name\"> <a class=\"unstyled bold articleLink\" href=\"/critic/hannah-brown/\">Hannah Brown</a> <br/> <a href=\"/source-723\"> <em class=\"subtle\">Jerusalem Post</em> </a> </div> </div> <div class=\"col-xs-16 review_container\"> <div class=\"review_icon icon small fresh\"></div> <div class=\"review_area\"> <div class=\"review_date subtle small\"> January 24, 2019</div> <div class=\"review_desc\"> <div class=\"the_review\"> Cold War is meticulously directed, each black-and-white shot composed like a great photograph.</div> <div class=\"small subtle\"> <a href=\"https://www.jpost.com/Israel-News/Culture/Cold-Wars-big-chill-578489\" rel=\"nofollow\" target=\"_blank\">Full Review</a> </div> </div> </div> </div> </div> <div class=\"row review_table_row\"> <div class=\"col-xs-8\"> <div class=\"col-sm-7 col-xs-16 critic_img\"> <img class=\"critic_thumb fullWidth\" src=\"https://d2a5cgar23scu2.cloudfront.net/static/images/redesign/user.none.tmb.jpg\" width=\"50px\"/> </div> <div class=\"col-sm-4 col-xs-8 top_critic col-sm-push-13\"> </div> <div class=\"col-sm-13 col-xs-24 col-sm-pull-4 critic_name\"> <a class=\"unstyled bold articleLink\" href=\"/critic/marjorie-baumgarten/\">Marjorie Baumgarten</a> <br/> <a href=\"/source-28\"> <em class=\"subtle\">Austin Chronicle</em> </a> </div> </div> <div class=\"col-xs-16 review_container\"> <div class=\"review_icon icon small fresh\"></div> <div class=\"review_area\"> <div class=\"review_date subtle small\"> January 24, 2019</div> <div class=\"review_desc\"> <div class=\"the_review\"> Like the time period it covers, this love story is filled with passionate rhetoric and uncertain intentions.</div> <div class=\"small subtle\"> <a href=\"https://www.austinchronicle.com/events/film/2019-01-25/cold-war/\" rel=\"nofollow\" target=\"_blank\">Full Review</a> | Original Score: 3/5</div> </div> </div> </div> </div> <div class=\"row review_table_row\"> <div class=\"col-xs-8\"> <div class=\"col-sm-7 col-xs-16 critic_img\"> <img class=\"critic_thumb fullWidth\" src=\"https://d2a5cgar23scu2.cloudfront.net/static/images/redesign/user.none.tmb.jpg\" width=\"50px\"/> </div> <div class=\"col-sm-4 col-xs-8 top_critic col-sm-push-13\"> </div> <div class=\"col-sm-13 col-xs-24 col-sm-pull-4 critic_name\"> <a class=\"unstyled bold articleLink\" href=\"/critic/ken-eisner/\">Ken Eisner</a> <br/> <a href=\"/source-1524\"> <em class=\"subtle\">Georgia Straight</em> </a> </div> </div> <div class=\"col-xs-16 review_container\"> <div class=\"review_icon icon small fresh\"></div> <div class=\"review_area\"> <div class=\"review_date subtle small\"> January 24, 2019</div> <div class=\"review_desc\"> <div class=\"the_review\"> The most ravishing tone poem since Wong Kar-wai's In the Mood for Love.</div> <div class=\"small subtle\"> <a href=\"https://www.straight.com/movies/1191606/ravishing-cold-war-will-get-you-mood-love\" rel=\"nofollow\" target=\"_blank\">Full Review</a> </div> </div> </div> </div> </div> <div class=\"row review_table_row\"> <div class=\"col-xs-8\"> <div class=\"col-sm-7 col-xs-16 critic_img\"> <img class=\"critic_thumb fullWidth\" src=\"https://resizing.flixster.com/VEYwR5sJEzCnw442FLzn1drRBIQ=/72x72/v1.YzsyNTY4O2c7MTc5NTg7MjA0ODsxNTA7MTUw\" width=\"50px\"/> </div> <div class=\"col-sm-4 col-xs-8 top_critic col-sm-push-13\"> <div class=\"small\" style=\"color:#ffc000\"><span class=\"glyphicon glyphicon-star\"></span> Top Critic</div></div> <div class=\"col-sm-13 col-xs-24 col-sm-pull-4 critic_name\"> <a class=\"unstyled bold articleLink\" href=\"/critic/peter-howell/\">Peter Howell</a> <br/> <a href=\"/source-450\"> <em class=\"subtle\">Toronto Star</em> </a> </div> </div> <div class=\"col-xs-16 review_container\"> <div class=\"review_icon icon small fresh\"></div> <div class=\"review_area\"> <div class=\"review_date subtle small\"> January 24, 2019</div> <div class=\"review_desc\"> <div class=\"the_review\"> Pawlikowski remains a director to watch and Cold War is a film to watch again and again.</div> <div class=\"small subtle\"> <a href=\"https://www.thestar.com/entertainment/movies/review/2019/01/24/pawel-pawlikowskis-cold-war-is-superbly-executed-in-form-story-and-performance.html\" rel=\"nofollow\" target=\"_blank\">Full Review</a> | Original Score: 3.5/4</div> </div> </div> </div> </div> <div class=\"row review_table_row\"> <div class=\"col-xs-8\"> <div class=\"col-sm-7 col-xs-16 critic_img\"> <img class=\"critic_thumb fullWidth\" src=\"https://resizing.flixster.com/4Ypk4LvpvYbCjTLnRTM3LRuH9Ig=/72x72/v1.YzsxNzc4O2c7MTc5Nzg7MjA0ODszODs0Mg\" width=\"50px\"/> </div> <div class=\"col-sm-4 col-xs-8 top_critic col-sm-push-13\"> </div> <div class=\"col-sm-13 col-xs-24 col-sm-pull-4 critic_name\"> <a class=\"unstyled bold articleLink\" href=\"/critic/peter-canavese/\">Peter Canavese</a> <br/> <a href=\"/source-1601\"> <em class=\"subtle\">Groucho Reviews</em> </a> </div> </div> <div class=\"col-xs-16 review_container\"> <div class=\"review_icon icon small fresh\"></div> <div class=\"review_area\"> <div class=\"review_date subtle small\"> January 23, 2019</div> <div class=\"review_desc\"> <div class=\"the_review\"> A sweet romance this isn't, but Pawlikowski (Ida) balances the flatfooted realities of maddeningly thwarted love with swoony moments: smoky jazz clubs and songbird reveries.</div> <div class=\"small subtle\"> <a href=\"http://www.grouchoreviews.com/reviews/5144\" rel=\"nofollow\" target=\"_blank\">Full Review</a> | Original Score: 3.5/4</div> </div> </div> </div> </div> <div class=\"row review_table_row\"> <div class=\"col-xs-8\"> <div class=\"col-sm-7 col-xs-16 critic_img\"> <img class=\"critic_thumb fullWidth\" src=\"https://resizing.flixster.com/5r73N1XFXVw9g0zrhird9jGiIp0=/72x72/v1.YzszMDkyO2o7MTc5ODc7MjA0ODszMDA7MzAw\" width=\"50px\"/> </div> <div class=\"col-sm-4 col-xs-8 top_critic col-sm-push-13\"> </div> <div class=\"col-sm-13 col-xs-24 col-sm-pull-4 critic_name\"> <a class=\"unstyled bold articleLink\" href=\"/critic/joe-friar-23157/\">Joe Friar</a> <br/> <a href=\"/source-3141\"> <em class=\"subtle\">The Victoria Advocate</em> </a> </div> </div> <div class=\"col-xs-16 review_container\"> <div class=\"review_icon icon small fresh\"></div> <div class=\"review_area\"> <div class=\"review_date subtle small\"> January 23, 2019</div> <div class=\"review_desc\"> <div class=\"the_review\"> Pawel Pawlikowski's timeless love story seduces the viewer with the perfect blend of romance, tragedy, and music. Joanna Kulig and Tomasz Kot are fantastic. </div> <div class=\"small subtle\"> <a href=\"https://www.victoriaadvocate.com/blogs/staff/flix/cold-war-review-oscar-nominated-polish-film-seduces-viewers-with/article_86438dac-1f3d-11e9-9a32-bb51c50d2a37.html\" rel=\"nofollow\" target=\"_blank\">Full Review</a> | Original Score: 4/4</div> </div> </div> </div> </div> <div class=\"row review_table_row\"> <div class=\"col-xs-8\"> <div class=\"col-sm-7 col-xs-16 critic_img\"> <img class=\"critic_thumb fullWidth\" src=\"https://d2a5cgar23scu2.cloudfront.net/static/images/redesign/user.none.tmb.jpg\" width=\"50px\"/> </div> <div class=\"col-sm-4 col-xs-8 top_critic col-sm-push-13\"> </div> <div class=\"col-sm-13 col-xs-24 col-sm-pull-4 critic_name\"> <a class=\"unstyled bold articleLink\" href=\"/critic/tom-meek/\">Tom Meek</a> <br/> <a href=\"/source-2541\"> <em class=\"subtle\">Cambridge Day</em> </a> </div> </div> <div class=\"col-xs-16 review_container\"> <div class=\"review_icon icon small fresh\"></div> <div class=\"review_area\"> <div class=\"review_date subtle small\"> January 23, 2019</div> <div class=\"review_desc\"> <div class=\"the_review\"> This is about as far from Hollywood as one can get and still be in love in every frame.</div> <div class=\"small subtle\"> <a href=\"http://www.cambridgeday.com/2019/01/19/cold-war-when-iron-curtain-falls-on-love-you-really-cant-just-sing-your-troubles-away/\" rel=\"nofollow\" target=\"_blank\">Full Review</a> | Original Score: 3.5/4</div> </div> </div> </div> </div> <div class=\"row review_table_row\"> <div class=\"col-xs-8\"> <div class=\"col-sm-7 col-xs-16 critic_img\"> <img class=\"critic_thumb fullWidth\" src=\"https://resizing.flixster.com/GKyvv4VCdOe4ub8J8SeRXrx0WfQ=/72x72/v1.YzsyODAwO2c7MTc5NjU7MjA0ODsxNTA7MTUw\" width=\"50px\"/> </div> <div class=\"col-sm-4 col-xs-8 top_critic col-sm-push-13\"> </div> <div class=\"col-sm-13 col-xs-24 col-sm-pull-4 critic_name\"> <a class=\"unstyled bold articleLink\" href=\"/critic/liam-lacey/\">Liam Lacey</a> <br/> <a href=\"/source-2876\"> <em class=\"subtle\">Original Cin</em> </a> </div> </div> <div class=\"col-xs-16 review_container\"> <div class=\"review_icon icon small fresh\"></div> <div class=\"review_area\"> <div class=\"review_date subtle small\"> January 22, 2019</div> <div class=\"review_desc\"> <div class=\"the_review\"> The luminous black-and-white musical melodrama is the kind Hollywood used to make, about an attractive couple who sing and fight and love together. Through this lens, it's a kind of romantic protest against a political nightmare.</div> <div class=\"small subtle\"> <a href=\"https://www.original-cin.ca/posts/2019/1/22/cold-war-oscar-nominated-polish-period-romance-is-the-kind-of-film-hollywood-used-to-make\" rel=\"nofollow\" target=\"_blank\">Full Review</a> | Original Score: A</div> </div> </div> </div> </div> <div class=\"row review_table_row\"> <div class=\"col-xs-8\"> <div class=\"col-sm-7 col-xs-16 critic_img\"> <img class=\"critic_thumb fullWidth\" src=\"https://resizing.flixster.com/yy850HB0sSq1t4hCObVISIhv7NA=/72x72/v1.YzsyNzc4O2c7MTc5ODg7MjA0ODsxNTA7MTUw\" width=\"50px\"/> </div> <div class=\"col-sm-4 col-xs-8 top_critic col-sm-push-13\"> </div> <div class=\"col-sm-13 col-xs-24 col-sm-pull-4 critic_name\"> <a class=\"unstyled bold articleLink\" href=\"/critic/sara-michelle-fetters-8689/\">Sara Michelle Fetters</a> <br/> <a href=\"/source-1411\"> <em class=\"subtle\">MovieFreak.com</em> </a> </div> </div> <div class=\"col-xs-16 review_container\"> <div class=\"review_icon icon small fresh\"></div> <div class=\"review_area\"> <div class=\"review_date subtle small\"> January 21, 2019</div> <div class=\"review_desc\"> <div class=\"the_review\"> Polish director Pawel Pawlikowski's Cold War is a stunning piece of episodic storytelling that's positively breathtaking in its invigorating emotional magnitude.</div> <div class=\"small subtle\"> <a href=\"http://moviefreak.com/cold-war-2018-movie-review/\" rel=\"nofollow\" target=\"_blank\">Full Review</a> | Original Score: 3.5/4</div> </div> </div> </div> </div> <div class=\"row review_table_row\"> <div class=\"col-xs-8\"> <div class=\"col-sm-7 col-xs-16 critic_img\"> <img class=\"critic_thumb fullWidth\" src=\"https://resizing.flixster.com/HG2CjaRyJX6p6wRQoY2yGRwYoLE=/72x72/v1.YzsyNTkwO2c7MTc5ODA7MjA0ODsxNTA7MTUw\" width=\"50px\"/> </div> <div class=\"col-sm-4 col-xs-8 top_critic col-sm-push-13\"> </div> <div class=\"col-sm-13 col-xs-24 col-sm-pull-4 critic_name\"> <a class=\"unstyled bold articleLink\" href=\"/critic/al-alexander/\">Al Alexander</a> <br/> <a href=\"/source-2515\"> <em class=\"subtle\">The Patriot Ledger</em> </a> </div> </div> <div class=\"col-xs-16 review_container\"> <div class=\"review_icon icon small fresh\"></div> <div class=\"review_area\"> <div class=\"review_date subtle small\"> January 19, 2019</div> <div class=\"review_desc\"> <div class=\"the_review\"> A filmmaking marvel that yields the perfect blend of artistry and passion. </div> <div class=\"small subtle\"> <a href=\"http://www.patriotledger.com/entertainmentlife/20190118/movie-review-joanna-kulig-brings-heat-in-cold-war\" rel=\"nofollow\" target=\"_blank\">Full Review</a> | Original Score: A</div> </div> </div> </div> </div> <div class=\"row review_table_row\"> <div class=\"col-xs-8\"> <div class=\"col-sm-7 col-xs-16 critic_img\"> <img class=\"critic_thumb fullWidth\" src=\"https://resizing.flixster.com/aZXL_Mg_oQJjPYj1KoAvHMVVKhk=/72x72/v1.YzsyMjcxO2o7MTc5NzY7MjA0ODsxMDA7MTAw\" width=\"50px\"/> </div> <div class=\"col-sm-4 col-xs-8 top_critic col-sm-push-13\"> <div class=\"small\" style=\"color:#ffc000\"><span class=\"glyphicon glyphicon-star\"></span> Top Critic</div></div> <div class=\"col-sm-13 col-xs-24 col-sm-pull-4 critic_name\"> <a class=\"unstyled bold articleLink\" href=\"/critic/andrea-gronvall/\">Andrea Gronvall</a> <br/> <a href=\"/source-66\"> <em class=\"subtle\">Chicago Reader</em> </a> </div> </div> <div class=\"col-xs-16 review_container\"> <div class=\"review_icon icon small fresh\"></div> <div class=\"review_area\"> <div class=\"review_date subtle small\"> January 18, 2019</div> <div class=\"review_desc\"> <div class=\"the_review\"> What the film is doing is recognizing their indelible life force and originality; it's a cri de coeur hurled toward an increasingly hidebound and emotionally stunted era of Western civilization.</div> <div class=\"small subtle\"> <a href=\"https://www.chicagoreader.com/chicago/cold-war-pawel-pawlikowski/Content?oid=66565484\" rel=\"nofollow\" target=\"_blank\">Full Review</a> | Original Score: 4/4</div> </div> </div> </div> </div> <div class=\"row review_table_row\"> <div class=\"col-xs-8\"> <div class=\"col-sm-7 col-xs-16 critic_img\"> <img class=\"critic_thumb fullWidth\" src=\"https://resizing.flixster.com/0Nwwmeo8BPDN8a5YDCbbeqk2PxI=/72x72/v1.YzsyNDkwO2c7MTc5NzA7MjA0ODsxNTI7MTY4\" width=\"50px\"/> </div> <div class=\"col-sm-4 col-xs-8 top_critic col-sm-push-13\"> </div> <div class=\"col-sm-13 col-xs-24 col-sm-pull-4 critic_name\"> <a class=\"unstyled bold articleLink\" href=\"/critic/travis-hopson/\">Travis Hopson</a> <br/> <a href=\"/source-2787\"> <em class=\"subtle\">Punch Drunk Critics</em> </a> </div> </div> <div class=\"col-xs-16 review_container\"> <div class=\"review_icon icon small fresh\"></div> <div class=\"review_area\"> <div class=\"review_date subtle small\"> January 18, 2019</div> <div class=\"review_desc\"> <div class=\"the_review\"> Much like Ida, the film is shot in gorgeous black &amp; white by cinematographer Lukasz Zal, giving the feel you're watching some piece of history passed on across generations.</div> <div class=\"small subtle\"> <a href=\"http://www.punchdrunkcritics.com/2019/01/review-pawel-pawlikowskis-cold-war-is.html\" rel=\"nofollow\" target=\"_blank\">Full Review</a> | Original Score: 3/5</div> </div> </div> </div> </div> <div class=\"row review_table_row\"> <div class=\"col-xs-8\"> <div class=\"col-sm-7 col-xs-16 critic_img\"> <img class=\"critic_thumb fullWidth\" src=\"https://d2a5cgar23scu2.cloudfront.net/static/images/redesign/user.none.tmb.jpg\" width=\"50px\"/> </div> <div class=\"col-sm-4 col-xs-8 top_critic col-sm-push-13\"> </div> <div class=\"col-sm-13 col-xs-24 col-sm-pull-4 critic_name\"> <a class=\"unstyled bold articleLink\" href=\"/critic/ela-bittencourt/\">Ela Bittencourt</a> <br/> <a href=\"/source-165\"> <em class=\"subtle\">Film Comment Magazine</em> </a> </div> </div> <div class=\"col-xs-16 review_container\"> <div class=\"review_icon icon small fresh\"></div> <div class=\"review_area\"> <div class=\"review_date subtle small\"> January 18, 2019</div> <div class=\"review_desc\"> <div class=\"the_review\"> Poland has seen more than its share of war, and of the art and cinema of exile. Pawel Pawlikowski's latest feature, Cold War, is a spirited albeit flawed entry in this category.</div> <div class=\"small subtle\"> <a href=\"https://www.filmcomment.com/article/review-cold-war/\" rel=\"nofollow\" target=\"_blank\">Full Review</a> </div> </div> </div> </div> </div> <div class=\"row review_table_row\"> <div class=\"col-xs-8\"> <div class=\"col-sm-7 col-xs-16 critic_img\"> <img class=\"critic_thumb fullWidth\" src=\"https://d2a5cgar23scu2.cloudfront.net/static/images/redesign/user.none.tmb.jpg\" width=\"50px\"/> </div> <div class=\"col-sm-4 col-xs-8 top_critic col-sm-push-13\"> </div> <div class=\"col-sm-13 col-xs-24 col-sm-pull-4 critic_name\"> <a class=\"unstyled bold articleLink\" href=\"/critic/peg-aloi/\">Peg Aloi</a> <br/> <a href=\"/source-2539\"> <em class=\"subtle\">Arts Fuse</em> </a> </div> </div> <div class=\"col-xs-16 review_container\"> <div class=\"review_icon icon small fresh\"></div> <div class=\"review_area\"> <div class=\"review_date subtle small\"> January 18, 2019</div> <div class=\"review_desc\"> <div class=\"the_review\"> Filled with music from many genres, from folk to jazz to rock and roll, Pawel Pawlikowski's Cold War is a sumptuous, sad, and often thrilling story of love set mostly in post-war Poland.</div> <div class=\"small subtle\"> <a href=\"http://artsfuse.org/178885/film-review-cold-war-love-etched-by-art/\" rel=\"nofollow\" target=\"_blank\">Full Review</a> </div> </div> </div> </div> </div> <div class=\"row review_table_row\"> <div class=\"col-xs-8\"> <div class=\"col-sm-7 col-xs-16 critic_img\"> <img class=\"critic_thumb fullWidth\" src=\"https://resizing.flixster.com/9_geQZb8QrdP0owNYej8esFImIA=/72x72/v1.YzszMDM1O2c7MTc5NzU7MjA0ODsxNTA7MTUw\" width=\"50px\"/> </div> <div class=\"col-sm-4 col-xs-8 top_critic col-sm-push-13\"> </div> <div class=\"col-sm-13 col-xs-24 col-sm-pull-4 critic_name\"> <a class=\"unstyled bold articleLink\" href=\"/critic/charles-mudede/\">Charles Mudede</a> <br/> <a href=\"/source-1640\"> <em class=\"subtle\">The Stranger (Seattle, WA)</em> </a> </div> </div> <div class=\"col-xs-16 review_container\"> <div class=\"review_icon icon small fresh\"></div> <div class=\"review_area\"> <div class=\"review_date subtle small\"> January 18, 2019</div> <div class=\"review_desc\"> <div class=\"the_review\"> When together, they are madly in love, fight a lot, and make beautiful jazz. The film has a perfect ending.</div> <div class=\"small subtle\"> <a href=\"https://www.thestranger.com/slog/2019/01/17/38062936/the-brilliant-breeziness-of-polish-film-cold-war\" rel=\"nofollow\" target=\"_blank\">Full Review</a> </div> </div> </div> </div> </div> <div class=\"row review_table_row\"> <div class=\"col-xs-8\"> <div class=\"col-sm-7 col-xs-16 critic_img\"> <img class=\"critic_thumb fullWidth\" src=\"https://resizing.flixster.com/ZiAuIch4n49GbHT4XfEnqxQnTNw=/72x72/v1.YzszMjAxO2o7MTc5NjE7MjA0ODszMDA7MzAw\" width=\"50px\"/> </div> <div class=\"col-sm-4 col-xs-8 top_critic col-sm-push-13\"> </div> <div class=\"col-sm-13 col-xs-24 col-sm-pull-4 critic_name\"> <a class=\"unstyled bold articleLink\" href=\"/critic/michael-ward/\">Michael Ward</a> <br/> <a href=\"/source-3295\"> <em class=\"subtle\">Should I See It</em> </a> </div> </div> <div class=\"col-xs-16 review_container\"> <div class=\"review_icon icon small fresh\"></div> <div class=\"review_area\"> <div class=\"review_date subtle small\"> January 18, 2019</div> <div class=\"review_desc\"> <div class=\"the_review\"> Slightly cold to the touch...Cold War is a visually striking black-and-white musical drama, beautifully shot by cinematographer Łukasz Żal.</div> <div class=\"small subtle\"> <a href=\"https://shouldisee.it/reviews/2019/cold-war-2018\" rel=\"nofollow\" target=\"_blank\">Full Review</a> | Original Score: 3.5/5</div> </div> </div> </div> </div> <div class=\"row review_table_row\"> <div class=\"col-xs-8\"> <div class=\"col-sm-7 col-xs-16 critic_img\"> <img class=\"critic_thumb fullWidth\" src=\"https://resizing.flixster.com/kCCaD6wj_AIv9ajXllT400iKMAs=/72x72/v1.YzsyMzE3O2c7MTc5Nzc7MjA0ODs1MDs1MA\" width=\"50px\"/> </div> <div class=\"col-sm-4 col-xs-8 top_critic col-sm-push-13\"> </div> <div class=\"col-sm-13 col-xs-24 col-sm-pull-4 critic_name\"> <a class=\"unstyled bold articleLink\" href=\"/critic/james-verniere/\">James Verniere</a> <br/> <a href=\"/source-45\"> <em class=\"subtle\">Boston Herald</em> </a> </div> </div> <div class=\"col-xs-16 review_container\"> <div class=\"review_icon icon small fresh\"></div> <div class=\"review_area\"> <div class=\"review_date subtle small\"> January 18, 2019</div> <div class=\"review_desc\"> <div class=\"the_review\"> Complex, lushly black-and-white love story may be Oscar foreign language front runner.</div> <div class=\"small subtle\"> <a href=\"https://www.bostonherald.com/2019/01/18/cold/\" rel=\"nofollow\" target=\"_blank\">Full Review</a> | Original Score: A-</div> </div> </div> </div> </div> </div> <div style=\"display:inline-block; float:right\"> <a class=\"btn btn-xs btn-primary-rt disabled\" href=\"#\"><span class=\"glyphicon glyphicon-chevron-left\"></span></a><span class=\"pageInfo\">Page 1 of 9</span> <a class=\"btn btn-xs btn-primary-rt\" href=\"/m/cold_war_2018/reviews/?page=2&amp;sort=\"><span class=\"glyphicon glyphicon-chevron-right\"></span></a></div> </div> </div>"
      ]
     },
     "execution_count": 55,
     "metadata": {},
     "output_type": "execute_result"
    }
   ],
   "source": [
    "reviews"
   ]
  },
  {
   "cell_type": "code",
   "execution_count": 6,
   "metadata": {},
   "outputs": [],
   "source": [
    "review_children = reviews.findChildren('div', {'class': 'row review_table_row'})"
   ]
  },
  {
   "cell_type": "code",
   "execution_count": 34,
   "metadata": {},
   "outputs": [
    {
     "name": "stdout",
     "output_type": "stream",
     "text": [
      "0 Sergio Huidobro /critic/sergio-huidobro/ 2019-01-27 1 5/5\n",
      "1 Harvey S. Karten /critic/harvey-s-karten/ 2019-01-27 1 B\n",
      "2 Sarah Gopaul /critic/sarah-gopaul/ 2019-01-25 1 None\n",
      "3 Frank Swietek /critic/frank-swietek/ 2019-01-25 1 A-\n",
      "4 Anne Brodie /critic/anne-brodie/ 2019-01-25 1 None\n",
      "5 Chris Knight /critic/chris-knight/ 2019-01-25 1 4.5/5\n",
      "6 Matthew Lickona /critic/matthew-lickona/ 2019-01-25 1 3/5\n",
      "7 Peter Rainer /critic/peter-rainer/ 2019-01-25 1 B+\n",
      "8 Max Weiss /critic/max-weiss/ 2019-01-25 1 3/4\n",
      "9 Jeffrey Edalatpour /critic/jeffrey-edalatpour/ 2019-01-24 1 None\n",
      "10 Robert Denerstein /critic/robert-denerstein/ 2019-01-24 1 None\n",
      "11 Beth Accomando /critic/beth-accomando/ 2019-01-24 1 None\n",
      "12 Hannah Brown /critic/hannah-brown/ 2019-01-24 1 None\n",
      "13 Marjorie Baumgarten /critic/marjorie-baumgarten/ 2019-01-24 1 3/5\n",
      "14 Ken Eisner /critic/ken-eisner/ 2019-01-24 1 None\n",
      "15 Peter Howell /critic/peter-howell/ 2019-01-24 1 3.5/4\n",
      "16 Peter Canavese /critic/peter-canavese/ 2019-01-23 1 3.5/4\n",
      "17 Joe Friar /critic/joe-friar-23157/ 2019-01-23 1 4/4\n",
      "18 Tom Meek /critic/tom-meek/ 2019-01-23 1 3.5/4\n",
      "19 Liam Lacey /critic/liam-lacey/ 2019-01-22 1 A\n"
     ]
    }
   ],
   "source": [
    "for i, review in enumerate(review_children):\n",
    "    critic = review.find('div', {'class': 'critic_name'})\n",
    "    if not critic:\n",
    "        print(f\"\\n\\nNo Critic in {i}\")\n",
    "        continue\n",
    "    critic_link = critic.find('a', {'class': 'articleLink'})\n",
    "    if not critic_link:\n",
    "        print(f\"\\n\\nNo link in {i}!\")\n",
    "        continue\n",
    "    critic_name = critic_link.text.strip()\n",
    "    critic_url = critic_link.get('href')\n",
    "    rdate = review.find('div', {'class': 'review_date'})\n",
    "    if not rdate:\n",
    "        print(f'\\n\\nNo date in {i}!')\n",
    "        continue\n",
    "    date = dateparser.parse(rdate.text.strip()).date()\n",
    "    text = review.find('div', {'class': 'the_review'}).text.strip()\n",
    "    fresh = bool(review.find('div', {'class': 'fresh'}))\n",
    "    small_subtle = review.find('div', {'class': 'small subtle'})\n",
    "    if small_subtle:\n",
    "        score = re.search(\"Original Score: (.+)$\", small_subtle.text)\n",
    "        if score:\n",
    "            score_text = score.group(1)\n",
    "        else:\n",
    "            score_text = None\n",
    "    print(i, critic_name, critic_url, date, rating, score_text)"
   ]
  },
  {
   "cell_type": "code",
   "execution_count": 18,
   "metadata": {},
   "outputs": [],
   "source": [
    "t = review.find('div', {'class': 'small subtle'}).text"
   ]
  },
  {
   "cell_type": "code",
   "execution_count": 19,
   "metadata": {},
   "outputs": [],
   "source": [
    "import re"
   ]
  },
  {
   "cell_type": "code",
   "execution_count": 32,
   "metadata": {},
   "outputs": [
    {
     "data": {
      "text/plain": [
       "'3.4/10'"
      ]
     },
     "execution_count": 32,
     "metadata": {},
     "output_type": "execute_result"
    }
   ],
   "source": [
    "re.match(\"Original Score: (.+)$\", \"Original Score: 3.4/10\").group(1)"
   ]
  },
  {
   "cell_type": "code",
   "execution_count": 33,
   "metadata": {},
   "outputs": [],
   "source": [
    "re.match?"
   ]
  },
  {
   "cell_type": "code",
   "execution_count": 15,
   "metadata": {},
   "outputs": [
    {
     "data": {
      "text/plain": [
       "<div class=\"row review_table_row\"> <div class=\"col-xs-8\"> <div class=\"col-sm-7 col-xs-16 critic_img\"> <img class=\"critic_thumb fullWidth\" src=\"https://resizing.flixster.com/GKyvv4VCdOe4ub8J8SeRXrx0WfQ=/72x72/v1.YzsyODAwO2c7MTc5NjU7MjA0ODsxNTA7MTUw\" width=\"50px\"/> </div> <div class=\"col-sm-4 col-xs-8 top_critic col-sm-push-13\"> </div> <div class=\"col-sm-13 col-xs-24 col-sm-pull-4 critic_name\"> <a class=\"unstyled bold articleLink\" href=\"/critic/liam-lacey/\">Liam Lacey</a> <br/> <a href=\"/source-2876\"> <em class=\"subtle\">Original Cin</em> </a> </div> </div> <div class=\"col-xs-16 review_container\"> <div class=\"review_icon icon small fresh\"></div> <div class=\"review_area\"> <div class=\"review_date subtle small\"> January 22, 2019</div> <div class=\"review_desc\"> <div class=\"the_review\"> The luminous black-and-white musical melodrama is the kind Hollywood used to make, about an attractive couple who sing and fight and love together. Through this lens, it's a kind of romantic protest against a political nightmare.</div> <div class=\"small subtle\"> <a href=\"https://www.original-cin.ca/posts/2019/1/22/cold-war-oscar-nominated-polish-period-romance-is-the-kind-of-film-hollywood-used-to-make\" rel=\"nofollow\" target=\"_blank\">Full Review</a> | Original Score: A</div> </div> </div> </div> </div>"
      ]
     },
     "execution_count": 15,
     "metadata": {},
     "output_type": "execute_result"
    }
   ],
   "source": [
    "review"
   ]
  },
  {
   "cell_type": "code",
   "execution_count": 97,
   "metadata": {},
   "outputs": [],
   "source": [
    "review = reviews.findNext('div', {'class': 'row review_table_row'})"
   ]
  },
  {
   "cell_type": "code",
   "execution_count": 111,
   "metadata": {},
   "outputs": [],
   "source": [
    "review = review.findNext('div', {'class': 'row review_table_row'})"
   ]
  },
  {
   "cell_type": "code",
   "execution_count": 135,
   "metadata": {
    "scrolled": true
   },
   "outputs": [
    {
     "name": "stdout",
     "output_type": "stream",
     "text": [
      "Review(movie_url='movie_url', reviewer_type='critic', reviewer_name='Peter Canavese', reviewer_url='/critic/peter-canavese/', rating=1, text=\"A sweet romance this isn't, but Pawlikowski (Ida) balances the flatfooted realities of maddeningly thwarted love with swoony moments: smoky jazz clubs and songbird reveries.\", date='January 23, 2019')\n"
     ]
    }
   ],
   "source": [
    "critic = review.find('div', {'class': 'critic_name'}).find('a', {'class': 'articleLink'})\n",
    "critic_name = critic.text.strip()\n",
    "critic_url = critic.get('href')\n",
    "date = review.find('div', {'class': 'review_date'}).text.strip()\n",
    "text = review.find('div', {'class': 'the_review'}).text.strip()\n",
    "rating = int(bool(review.find('div', {'class': 'fresh'})))\n",
    "r = Review('movie_url', TYPE_CRITIC, critic_name, critic_url, rating, text, date)"
   ]
  },
  {
   "cell_type": "markdown",
   "metadata": {},
   "source": [
    "# USER REVIEWS"
   ]
  },
  {
   "cell_type": "code",
   "execution_count": 142,
   "metadata": {},
   "outputs": [],
   "source": [
    "page_text = rq.get('https://www.rottentomatoes.com/m/cold_war_2018/reviews/?type=user').text"
   ]
  },
  {
   "cell_type": "code",
   "execution_count": 143,
   "metadata": {},
   "outputs": [],
   "source": [
    "soup = BeautifulSoup(page_text, 'lxml')"
   ]
  },
  {
   "cell_type": "code",
   "execution_count": 144,
   "metadata": {},
   "outputs": [],
   "source": [
    "reviews = soup.find('div', {'id': 'reviews'})"
   ]
  },
  {
   "cell_type": "code",
   "execution_count": 145,
   "metadata": {},
   "outputs": [],
   "source": [
    "review = reviews.findNext('div', {'class': 'row review_table_row'})"
   ]
  },
  {
   "cell_type": "code",
   "execution_count": 146,
   "metadata": {},
   "outputs": [
    {
     "data": {
      "text/plain": [
       "<div class=\"row review_table_row\"> <div class=\"col-xs-8\"> <div class=\"col-sm-6 col-xs-15 critic_img\"> <a class=\"\" href=\"/user/id/906369511/\"><img height=\"50\" src=\"https://graph.facebook.com/v2.9/1793190188/picture\" width=\"50\"/></a></div> <div class=\"col-sm-7 col-xs-9 top_critic col-sm-push-13 superreviewer\"> </div> <div class=\"col-sm-11 col-xs-24 col-sm-pull-4\"> <a class=\"bold unstyled articleLink\" href=\"/user/id/906369511/\"><span style=\"word-wrap:break-word\"> Kevin L</span> </a></div> </div> <div class=\"col-xs-16\"> <span class=\"fl\" style=\"color:#F1870A\"> <span class=\"glyphicon glyphicon-star\"></span><span class=\"glyphicon glyphicon-star\"></span><span class=\"glyphicon glyphicon-star\"></span><span class=\"glyphicon glyphicon-star\"></span>½</span> <span class=\"fr small subtle\">January 24, 2019</span> <div class=\"user_review\" style=\"display:inline-block; width:100%\"> <div class=\"scoreWrapper\"><span class=\"45\"></span></div> Bleak, beautiful, and awfully tragic, Cold War captures a rare type of romance that only foreign cinema can offer; the cinematography, subtle performances, and directing by Pawlikowski are spot-on</div> </div> </div>"
      ]
     },
     "execution_count": 146,
     "metadata": {},
     "output_type": "execute_result"
    }
   ],
   "source": [
    "review"
   ]
  },
  {
   "cell_type": "code",
   "execution_count": 147,
   "metadata": {},
   "outputs": [
    {
     "data": {
      "text/plain": [
       "'Kevin L'"
      ]
     },
     "execution_count": 147,
     "metadata": {},
     "output_type": "execute_result"
    }
   ],
   "source": [
    "review.find('div', {'class': 'col-sm-11'}).text.strip()"
   ]
  },
  {
   "cell_type": "code",
   "execution_count": 149,
   "metadata": {},
   "outputs": [
    {
     "data": {
      "text/plain": [
       "'/user/id/906369511/'"
      ]
     },
     "execution_count": 149,
     "metadata": {},
     "output_type": "execute_result"
    }
   ],
   "source": [
    "review.find('div', {'class': 'col-sm-11'}).find('a', {'class': 'articleLink'}).get('href')"
   ]
  },
  {
   "cell_type": "code",
   "execution_count": 150,
   "metadata": {},
   "outputs": [
    {
     "data": {
      "text/plain": [
       "'Bleak, beautiful, and awfully tragic, Cold War captures a rare type of romance that only foreign cinema can offer; the cinematography, subtle performances, and directing by Pawlikowski are spot-on'"
      ]
     },
     "execution_count": 150,
     "metadata": {},
     "output_type": "execute_result"
    }
   ],
   "source": [
    "review.find('div', {'class': 'user_review'}).text.strip()"
   ]
  },
  {
   "cell_type": "markdown",
   "metadata": {},
   "source": [
    "# DB"
   ]
  },
  {
   "cell_type": "code",
   "execution_count": 206,
   "metadata": {},
   "outputs": [],
   "source": [
    "conn = sqlite3.connect('/Users/jakubtlalka/it/ds/projects/movies/movies.db')"
   ]
  },
  {
   "cell_type": "code",
   "execution_count": 210,
   "metadata": {},
   "outputs": [],
   "source": [
    "c = conn.cursor()"
   ]
  },
  {
   "cell_type": "code",
   "execution_count": 174,
   "metadata": {},
   "outputs": [
    {
     "name": "stdout",
     "output_type": "stream",
     "text": [
      "https://www.rottentomatoes.com/m/cold_war_2018\n"
     ]
    }
   ],
   "source": [
    "for url, in c.fetchall():\n",
    "    print(url)"
   ]
  },
  {
   "cell_type": "code",
   "execution_count": 176,
   "metadata": {},
   "outputs": [],
   "source": [
    "import dateparser"
   ]
  },
  {
   "cell_type": "code",
   "execution_count": 178,
   "metadata": {},
   "outputs": [
    {
     "data": {
      "text/plain": [
       "datetime.date(2019, 1, 23)"
      ]
     },
     "execution_count": 178,
     "metadata": {},
     "output_type": "execute_result"
    }
   ],
   "source": [
    "dateparser.parse(r.date).date()"
   ]
  },
  {
   "cell_type": "code",
   "execution_count": 179,
   "metadata": {},
   "outputs": [
    {
     "data": {
      "text/plain": [
       "Review(movie_url='movie_url', reviewer_type='critic', reviewer_name='Peter Canavese', reviewer_url='/critic/peter-canavese/', rating=1, text=\"A sweet romance this isn't, but Pawlikowski (Ida) balances the flatfooted realities of maddeningly thwarted love with swoony moments: smoky jazz clubs and songbird reveries.\", date='January 23, 2019')"
      ]
     },
     "execution_count": 179,
     "metadata": {},
     "output_type": "execute_result"
    }
   ],
   "source": [
    "r"
   ]
  },
  {
   "cell_type": "code",
   "execution_count": 211,
   "metadata": {},
   "outputs": [
    {
     "data": {
      "text/plain": [
       "<sqlite3.Cursor at 0x10988f340>"
      ]
     },
     "execution_count": 211,
     "metadata": {},
     "output_type": "execute_result"
    }
   ],
   "source": [
    "c.execute(\"INSERT INTO rt_reviews (movie_url, type, reviewer_name, reviewer_url, rating, review_text, review_date) VALUES ('{movie_url}', '{reviewer_type}', '{reviewer_name}', '{reviewer_url}', {rating}, '{parsed_text}', '{parsed_date}')\".format(**r._asdict(), parsed_text=r.text.replace(\"'\", \"''\"), parsed_date=str(dateparser.parse(r.date).date())))"
   ]
  },
  {
   "cell_type": "code",
   "execution_count": 194,
   "metadata": {},
   "outputs": [
    {
     "data": {
      "text/plain": [
       "<sqlite3.Cursor at 0x1098a25e0>"
      ]
     },
     "execution_count": 194,
     "metadata": {},
     "output_type": "execute_result"
    }
   ],
   "source": [
    "c.execute(\"INSERT INTO rt_reviews (movie_url, type, reviewer_name, reviewer_url, rating, review_text, review_date) VALUES ('movie_url', 'critic', '/critic/peter-canavese/', '/critic/peter-canavese/', 1, 'A sweet romance this isn''t, but Pawlikowski (Ida) balances the flatfooted realities of maddeningly thwarted love with swoony moments: smoky jazz clubs and songbird reveries.', '2019-01-23')\")"
   ]
  },
  {
   "cell_type": "code",
   "execution_count": 212,
   "metadata": {},
   "outputs": [],
   "source": [
    "conn.commit()"
   ]
  },
  {
   "cell_type": "code",
   "execution_count": 19,
   "metadata": {},
   "outputs": [],
   "source": [
    "import sqlalchemy as db"
   ]
  },
  {
   "cell_type": "code",
   "execution_count": 24,
   "metadata": {},
   "outputs": [],
   "source": [
    "engine = db.create_engine('sqlite:////Users/jakubtlalka/it/ds/projects/movies/movies.sqlite')\n",
    "conn = engine.connect()"
   ]
  },
  {
   "cell_type": "code",
   "execution_count": 25,
   "metadata": {},
   "outputs": [],
   "source": [
    "metadata = db.MetaData()"
   ]
  },
  {
   "cell_type": "code",
   "execution_count": 227,
   "metadata": {},
   "outputs": [],
   "source": [
    "rt_reviews = db.Table('rt_reviews', metadata, autoload=True, autoload_with=engine)"
   ]
  },
  {
   "cell_type": "code",
   "execution_count": 28,
   "metadata": {},
   "outputs": [],
   "source": [
    "rt_reviews = db.Table('rt_reviews2', metadata,\n",
    "                      db.Column('movie_url', db.TEXT()),\n",
    "                      db.Column('type', db.TEXT()),\n",
    "                      db.Column('reviewer_name', db.TEXT()),\n",
    "                      db.Column('reviewer_url', db.TEXT()),\n",
    "                      db.Column('rating', db.INTEGER()),\n",
    "                      db.Column('review_text', db.TEXT()),\n",
    "                      db.Column('review_date', db.TEXT()))"
   ]
  },
  {
   "cell_type": "code",
   "execution_count": 29,
   "metadata": {},
   "outputs": [],
   "source": [
    "metadata.create_all(engine)"
   ]
  },
  {
   "cell_type": "code",
   "execution_count": 229,
   "metadata": {},
   "outputs": [
    {
     "data": {
      "text/plain": [
       "[Column('movie_url', TEXT(), table=<rt_reviews>),\n",
       " Column('type', TEXT(), table=<rt_reviews>),\n",
       " Column('reviewer_name', TEXT(), table=<rt_reviews>),\n",
       " Column('reviewer_url', TEXT(), table=<rt_reviews>),\n",
       " Column('rating', INTEGER(), table=<rt_reviews>),\n",
       " Column('review_text', TEXT(), table=<rt_reviews>),\n",
       " Column('review_date', DATE(), table=<rt_reviews>)]"
      ]
     },
     "execution_count": 229,
     "metadata": {},
     "output_type": "execute_result"
    }
   ],
   "source": [
    "list(rt_reviews.columns)"
   ]
  },
  {
   "cell_type": "raw",
   "metadata": {},
   "source": [
    "#Inserting record one by one\n",
    "query = db.insert(emp).values(Id=1, name='naveen', salary=60000.00, active=True) \n",
    "ResultProxy = connection.execute(query)"
   ]
  },
  {
   "cell_type": "code",
   "execution_count": 236,
   "metadata": {},
   "outputs": [],
   "source": [
    "query = db.insert(rt_reviews).values(movie_url=r.movie_url,\n",
    "                                     type=r.reviewer_type,\n",
    "                                     reviewer_name=r.reviewer_name,\n",
    "                                     reviewer_url=r.reviewer_url,\n",
    "                                     rating=r.rating,\n",
    "                                     review_text=r.text,\n",
    "                                     review_date=dateparser.parse(r.date).date())"
   ]
  },
  {
   "cell_type": "code",
   "execution_count": 233,
   "metadata": {},
   "outputs": [
    {
     "data": {
      "text/plain": [
       "Review(movie_url='movie_url', reviewer_type='critic', reviewer_name='Peter Canavese', reviewer_url='/critic/peter-canavese/', rating=1, text=\"A sweet romance this isn't, but Pawlikowski (Ida) balances the flatfooted realities of maddeningly thwarted love with swoony moments: smoky jazz clubs and songbird reveries.\", date='January 23, 2019')"
      ]
     },
     "execution_count": 233,
     "metadata": {},
     "output_type": "execute_result"
    }
   ],
   "source": [
    "r"
   ]
  },
  {
   "cell_type": "code",
   "execution_count": 237,
   "metadata": {},
   "outputs": [
    {
     "data": {
      "text/plain": [
       "'INSERT INTO rt_reviews (movie_url, type, reviewer_name, reviewer_url, rating, review_text, review_date) VALUES (:movie_url, :type, :reviewer_name, :reviewer_url, :rating, :review_text, :review_date)'"
      ]
     },
     "execution_count": 237,
     "metadata": {},
     "output_type": "execute_result"
    }
   ],
   "source": [
    "str(query)"
   ]
  },
  {
   "cell_type": "code",
   "execution_count": 241,
   "metadata": {},
   "outputs": [
    {
     "data": {
      "text/plain": [
       "<sqlalchemy.engine.result.ResultProxy at 0x10b71f748>"
      ]
     },
     "execution_count": 241,
     "metadata": {},
     "output_type": "execute_result"
    }
   ],
   "source": [
    "conn.execute(query)"
   ]
  },
  {
   "cell_type": "code",
   "execution_count": 30,
   "metadata": {},
   "outputs": [],
   "source": [
    "db.ARRAY?"
   ]
  },
  {
   "cell_type": "code",
   "execution_count": 31,
   "metadata": {},
   "outputs": [
    {
     "data": {
      "text/plain": [
       "sqlalchemy.sql.sqltypes.Date"
      ]
     },
     "execution_count": 31,
     "metadata": {},
     "output_type": "execute_result"
    }
   ],
   "source": [
    "db.Date"
   ]
  },
  {
   "cell_type": "code",
   "execution_count": 32,
   "metadata": {},
   "outputs": [
    {
     "data": {
      "text/plain": [
       "sqlalchemy.sql.sqltypes.Text"
      ]
     },
     "execution_count": 32,
     "metadata": {},
     "output_type": "execute_result"
    }
   ],
   "source": [
    "db.Text"
   ]
  },
  {
   "cell_type": "code",
   "execution_count": 33,
   "metadata": {},
   "outputs": [],
   "source": [
    "class C:\n",
    "    def __init__(self, a, b):\n",
    "        self.a = a\n",
    "        self.b = b\n",
    "    def url(self):\n",
    "        return f\"{self.a} is a {self.b}\""
   ]
  },
  {
   "cell_type": "code",
   "execution_count": 34,
   "metadata": {},
   "outputs": [
    {
     "data": {
      "text/plain": [
       "'life is a bitch'"
      ]
     },
     "execution_count": 34,
     "metadata": {},
     "output_type": "execute_result"
    }
   ],
   "source": [
    "C(\"life\", \"bitch\").url()"
   ]
  },
  {
   "cell_type": "code",
   "execution_count": null,
   "metadata": {},
   "outputs": [],
   "source": []
  }
 ],
 "metadata": {
  "kernelspec": {
   "display_name": "Python 3",
   "language": "python",
   "name": "python3"
  },
  "language_info": {
   "codemirror_mode": {
    "name": "ipython",
    "version": 3
   },
   "file_extension": ".py",
   "mimetype": "text/x-python",
   "name": "python",
   "nbconvert_exporter": "python",
   "pygments_lexer": "ipython3",
   "version": "3.7.2"
  }
 },
 "nbformat": 4,
 "nbformat_minor": 2
}
