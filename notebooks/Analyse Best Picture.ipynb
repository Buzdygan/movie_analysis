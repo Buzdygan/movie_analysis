{
 "cells": [
  {
   "cell_type": "code",
   "execution_count": 1,
   "metadata": {},
   "outputs": [],
   "source": [
    "import pandas as pd\n",
    "from collections import namedtuple"
   ]
  },
  {
   "cell_type": "code",
   "execution_count": 2,
   "metadata": {},
   "outputs": [],
   "source": [
    "from storage import session_scope, Movie, MovieAward, RTReview"
   ]
  },
  {
   "cell_type": "code",
   "execution_count": 3,
   "metadata": {},
   "outputs": [],
   "source": [
    "CATEGORY = 'Best Motion Picture of the Year'"
   ]
  },
  {
   "cell_type": "code",
   "execution_count": 4,
   "metadata": {},
   "outputs": [],
   "source": [
    "with session_scope() as session:\n",
    "    movies_df = pd.read_sql(session.query(Movie).statement, session.bind)\n",
    "    movie_awards_df = pd.read_sql(session.query(MovieAward).statement, session.bind)\n",
    "    reviews_df = pd.read_sql(session.query(RTReview).statement, session.bind)"
   ]
  },
  {
   "cell_type": "code",
   "execution_count": 5,
   "metadata": {},
   "outputs": [
    {
     "data": {
      "text/html": [
       "<div>\n",
       "<style scoped>\n",
       "    .dataframe tbody tr th:only-of-type {\n",
       "        vertical-align: middle;\n",
       "    }\n",
       "\n",
       "    .dataframe tbody tr th {\n",
       "        vertical-align: top;\n",
       "    }\n",
       "\n",
       "    .dataframe thead th {\n",
       "        text-align: right;\n",
       "    }\n",
       "</style>\n",
       "<table border=\"1\" class=\"dataframe\">\n",
       "  <thead>\n",
       "    <tr style=\"text-align: right;\">\n",
       "      <th></th>\n",
       "      <th>imdb_id</th>\n",
       "      <th>title</th>\n",
       "      <th>release_year</th>\n",
       "      <th>directors</th>\n",
       "      <th>actors</th>\n",
       "      <th>runtime</th>\n",
       "      <th>genres</th>\n",
       "      <th>countries</th>\n",
       "      <th>imdb_rating</th>\n",
       "      <th>imdb_votes</th>\n",
       "      <th>box_office</th>\n",
       "      <th>rt_url</th>\n",
       "      <th>rt_tomato_score</th>\n",
       "      <th>rt_audience_score</th>\n",
       "    </tr>\n",
       "  </thead>\n",
       "  <tbody>\n",
       "    <tr>\n",
       "      <th>0</th>\n",
       "      <td>tt0440963</td>\n",
       "      <td>The Bourne Ultimatum</td>\n",
       "      <td>2007</td>\n",
       "      <td>[Paul Greengrass]</td>\n",
       "      <td>[Matt Damon, Julia Stiles, David Strathairn, S...</td>\n",
       "      <td>115 min</td>\n",
       "      <td>[Action, Mystery, Thriller]</td>\n",
       "      <td>[USA, Germany, France, Spain]</td>\n",
       "      <td>8.0</td>\n",
       "      <td>573745.0</td>\n",
       "      <td>$227,400,000</td>\n",
       "      <td>http://www.rottentomatoes.com/m/bourne_ultimatum/</td>\n",
       "      <td>NaN</td>\n",
       "      <td>NaN</td>\n",
       "    </tr>\n",
       "    <tr>\n",
       "      <th>1</th>\n",
       "      <td>tt0978759</td>\n",
       "      <td>Frozen River</td>\n",
       "      <td>2008</td>\n",
       "      <td>[Courtney Hunt]</td>\n",
       "      <td>[Melissa Leo, Misty Upham, Charlie McDermott, ...</td>\n",
       "      <td>97 min</td>\n",
       "      <td>[Crime, Drama]</td>\n",
       "      <td>[USA]</td>\n",
       "      <td>7.2</td>\n",
       "      <td>23348.0</td>\n",
       "      <td>$2,061,019</td>\n",
       "      <td>http://www.rottentomatoes.com/m/frozen_river/</td>\n",
       "      <td>NaN</td>\n",
       "      <td>NaN</td>\n",
       "    </tr>\n",
       "    <tr>\n",
       "      <th>2</th>\n",
       "      <td>tt2660888</td>\n",
       "      <td>Star Trek Beyond</td>\n",
       "      <td>2016</td>\n",
       "      <td>[Justin Lin]</td>\n",
       "      <td>[Chris Pine, Zachary Quinto, Karl Urban, Zoe S...</td>\n",
       "      <td>122 min</td>\n",
       "      <td>[Action, Adventure, Sci-Fi, Thriller]</td>\n",
       "      <td>[USA, China, United Arab Emirates, Canada]</td>\n",
       "      <td>7.1</td>\n",
       "      <td>204882.0</td>\n",
       "      <td>$158,804,470</td>\n",
       "      <td>http://www.rottentomatoes.com/m/star_trek_beyond/</td>\n",
       "      <td>NaN</td>\n",
       "      <td>NaN</td>\n",
       "    </tr>\n",
       "    <tr>\n",
       "      <th>3</th>\n",
       "      <td>tt0315733</td>\n",
       "      <td>21 Grams</td>\n",
       "      <td>2003</td>\n",
       "      <td>[Alejandro G. Iñárritu]</td>\n",
       "      <td>[Sean Penn, Naomi Watts, Danny Huston, Carly N...</td>\n",
       "      <td>124 min</td>\n",
       "      <td>[Crime, Drama, Thriller]</td>\n",
       "      <td>[USA]</td>\n",
       "      <td>7.7</td>\n",
       "      <td>209946.0</td>\n",
       "      <td>$16,162,920</td>\n",
       "      <td>http://www.rottentomatoes.com/m/21_grams/</td>\n",
       "      <td>NaN</td>\n",
       "      <td>NaN</td>\n",
       "    </tr>\n",
       "    <tr>\n",
       "      <th>4</th>\n",
       "      <td>tt5599918</td>\n",
       "      <td>Pearl</td>\n",
       "      <td>2016</td>\n",
       "      <td>[Patrick Osborne]</td>\n",
       "      <td>[Nicki Bluhm, Kelley Stoltz, Emma Grace Eisenm...</td>\n",
       "      <td>6 min</td>\n",
       "      <td>[Animation, Short, Music]</td>\n",
       "      <td>[USA]</td>\n",
       "      <td>7.0</td>\n",
       "      <td>1593.0</td>\n",
       "      <td>N/A</td>\n",
       "      <td>N/A</td>\n",
       "      <td>NaN</td>\n",
       "      <td>NaN</td>\n",
       "    </tr>\n",
       "  </tbody>\n",
       "</table>\n",
       "</div>"
      ],
      "text/plain": [
       "     imdb_id                 title release_year                directors  \\\n",
       "0  tt0440963  The Bourne Ultimatum         2007        [Paul Greengrass]   \n",
       "1  tt0978759          Frozen River         2008          [Courtney Hunt]   \n",
       "2  tt2660888      Star Trek Beyond         2016             [Justin Lin]   \n",
       "3  tt0315733              21 Grams         2003  [Alejandro G. Iñárritu]   \n",
       "4  tt5599918                 Pearl         2016        [Patrick Osborne]   \n",
       "\n",
       "                                              actors  runtime  \\\n",
       "0  [Matt Damon, Julia Stiles, David Strathairn, S...  115 min   \n",
       "1  [Melissa Leo, Misty Upham, Charlie McDermott, ...   97 min   \n",
       "2  [Chris Pine, Zachary Quinto, Karl Urban, Zoe S...  122 min   \n",
       "3  [Sean Penn, Naomi Watts, Danny Huston, Carly N...  124 min   \n",
       "4  [Nicki Bluhm, Kelley Stoltz, Emma Grace Eisenm...    6 min   \n",
       "\n",
       "                                  genres  \\\n",
       "0            [Action, Mystery, Thriller]   \n",
       "1                         [Crime, Drama]   \n",
       "2  [Action, Adventure, Sci-Fi, Thriller]   \n",
       "3               [Crime, Drama, Thriller]   \n",
       "4              [Animation, Short, Music]   \n",
       "\n",
       "                                    countries  imdb_rating  imdb_votes  \\\n",
       "0               [USA, Germany, France, Spain]          8.0    573745.0   \n",
       "1                                       [USA]          7.2     23348.0   \n",
       "2  [USA, China, United Arab Emirates, Canada]          7.1    204882.0   \n",
       "3                                       [USA]          7.7    209946.0   \n",
       "4                                       [USA]          7.0      1593.0   \n",
       "\n",
       "     box_office                                             rt_url  \\\n",
       "0  $227,400,000  http://www.rottentomatoes.com/m/bourne_ultimatum/   \n",
       "1    $2,061,019      http://www.rottentomatoes.com/m/frozen_river/   \n",
       "2  $158,804,470  http://www.rottentomatoes.com/m/star_trek_beyond/   \n",
       "3   $16,162,920          http://www.rottentomatoes.com/m/21_grams/   \n",
       "4           N/A                                                N/A   \n",
       "\n",
       "   rt_tomato_score  rt_audience_score  \n",
       "0              NaN                NaN  \n",
       "1              NaN                NaN  \n",
       "2              NaN                NaN  \n",
       "3              NaN                NaN  \n",
       "4              NaN                NaN  "
      ]
     },
     "execution_count": 5,
     "metadata": {},
     "output_type": "execute_result"
    }
   ],
   "source": [
    "movies_df.head()"
   ]
  },
  {
   "cell_type": "code",
   "execution_count": 6,
   "metadata": {},
   "outputs": [
    {
     "data": {
      "text/html": [
       "<div>\n",
       "<style scoped>\n",
       "    .dataframe tbody tr th:only-of-type {\n",
       "        vertical-align: middle;\n",
       "    }\n",
       "\n",
       "    .dataframe tbody tr th {\n",
       "        vertical-align: top;\n",
       "    }\n",
       "\n",
       "    .dataframe thead th {\n",
       "        text-align: right;\n",
       "    }\n",
       "</style>\n",
       "<table border=\"1\" class=\"dataframe\">\n",
       "  <thead>\n",
       "    <tr style=\"text-align: right;\">\n",
       "      <th></th>\n",
       "      <th>type</th>\n",
       "      <th>movie_imdb_id</th>\n",
       "      <th>reviewer_url</th>\n",
       "      <th>reviewer_name</th>\n",
       "      <th>review_date</th>\n",
       "      <th>fresh</th>\n",
       "      <th>original_score</th>\n",
       "      <th>review_text</th>\n",
       "    </tr>\n",
       "  </thead>\n",
       "  <tbody>\n",
       "    <tr>\n",
       "      <th>0</th>\n",
       "      <td>critic</td>\n",
       "      <td>tt0308644</td>\n",
       "      <td>/critic/david-ansen/</td>\n",
       "      <td>David Ansen   Newsweek</td>\n",
       "      <td>2018-03-12</td>\n",
       "      <td>True</td>\n",
       "      <td>NaN</td>\n",
       "      <td>Mingling reality and fantasy, Forster has give...</td>\n",
       "    </tr>\n",
       "    <tr>\n",
       "      <th>1</th>\n",
       "      <td>critic</td>\n",
       "      <td>tt0308644</td>\n",
       "      <td>/critic/will-self/</td>\n",
       "      <td>Will Self   London Evening Standard</td>\n",
       "      <td>2017-12-26</td>\n",
       "      <td>False</td>\n",
       "      <td>NaN</td>\n",
       "      <td>Wooden, yes, and saccharine, too. Oh, and did ...</td>\n",
       "    </tr>\n",
       "    <tr>\n",
       "      <th>2</th>\n",
       "      <td>critic</td>\n",
       "      <td>tt0308644</td>\n",
       "      <td>/critic/nell-minow/</td>\n",
       "      <td>Nell Minow   Common Sense Media</td>\n",
       "      <td>2010-12-24</td>\n",
       "      <td>True</td>\n",
       "      <td>0.6</td>\n",
       "      <td>Not about Peter Pan, and not a kids' movie.</td>\n",
       "    </tr>\n",
       "    <tr>\n",
       "      <th>3</th>\n",
       "      <td>critic</td>\n",
       "      <td>tt0308644</td>\n",
       "      <td>/critic/felix-vasquez-jr/</td>\n",
       "      <td>Felix Vasquez Jr.   Cinema Crazed</td>\n",
       "      <td>2009-04-29</td>\n",
       "      <td>True</td>\n",
       "      <td>0.7</td>\n",
       "      <td>A heartfelt, beautiful film, and one of the be...</td>\n",
       "    </tr>\n",
       "    <tr>\n",
       "      <th>4</th>\n",
       "      <td>critic</td>\n",
       "      <td>tt0308644</td>\n",
       "      <td>/critic/urban-cinefile-critics/</td>\n",
       "      <td>Urban Cinefile Critics   Urban Cinefile</td>\n",
       "      <td>2008-10-18</td>\n",
       "      <td>True</td>\n",
       "      <td>NaN</td>\n",
       "      <td>Like Big Fish and The Neverending Story, this ...</td>\n",
       "    </tr>\n",
       "  </tbody>\n",
       "</table>\n",
       "</div>"
      ],
      "text/plain": [
       "     type movie_imdb_id                     reviewer_url  \\\n",
       "0  critic     tt0308644             /critic/david-ansen/   \n",
       "1  critic     tt0308644               /critic/will-self/   \n",
       "2  critic     tt0308644              /critic/nell-minow/   \n",
       "3  critic     tt0308644        /critic/felix-vasquez-jr/   \n",
       "4  critic     tt0308644  /critic/urban-cinefile-critics/   \n",
       "\n",
       "                             reviewer_name review_date  fresh  original_score  \\\n",
       "0                   David Ansen   Newsweek  2018-03-12   True             NaN   \n",
       "1      Will Self   London Evening Standard  2017-12-26  False             NaN   \n",
       "2          Nell Minow   Common Sense Media  2010-12-24   True             0.6   \n",
       "3        Felix Vasquez Jr.   Cinema Crazed  2009-04-29   True             0.7   \n",
       "4  Urban Cinefile Critics   Urban Cinefile  2008-10-18   True             NaN   \n",
       "\n",
       "                                         review_text  \n",
       "0  Mingling reality and fantasy, Forster has give...  \n",
       "1  Wooden, yes, and saccharine, too. Oh, and did ...  \n",
       "2        Not about Peter Pan, and not a kids' movie.  \n",
       "3  A heartfelt, beautiful film, and one of the be...  \n",
       "4  Like Big Fish and The Neverending Story, this ...  "
      ]
     },
     "execution_count": 6,
     "metadata": {},
     "output_type": "execute_result"
    }
   ],
   "source": [
    "reviews_df.head()"
   ]
  },
  {
   "cell_type": "code",
   "execution_count": 7,
   "metadata": {},
   "outputs": [
    {
     "data": {
      "text/html": [
       "<div>\n",
       "<style scoped>\n",
       "    .dataframe tbody tr th:only-of-type {\n",
       "        vertical-align: middle;\n",
       "    }\n",
       "\n",
       "    .dataframe tbody tr th {\n",
       "        vertical-align: top;\n",
       "    }\n",
       "\n",
       "    .dataframe thead th {\n",
       "        text-align: right;\n",
       "    }\n",
       "</style>\n",
       "<table border=\"1\" class=\"dataframe\">\n",
       "  <thead>\n",
       "    <tr style=\"text-align: right;\">\n",
       "      <th></th>\n",
       "      <th>award_id</th>\n",
       "      <th>award_category</th>\n",
       "      <th>movie_imdb_id</th>\n",
       "      <th>person_imdb_id</th>\n",
       "      <th>award_date</th>\n",
       "      <th>winner</th>\n",
       "      <th>award_name</th>\n",
       "      <th>person_name</th>\n",
       "    </tr>\n",
       "  </thead>\n",
       "  <tbody>\n",
       "    <tr>\n",
       "      <th>0</th>\n",
       "      <td>ev0000003</td>\n",
       "      <td>Best Motion Picture of the Year</td>\n",
       "      <td>tt5580390</td>\n",
       "      <td>nm0868219</td>\n",
       "      <td>2018-03-04</td>\n",
       "      <td>True</td>\n",
       "      <td>Oscars</td>\n",
       "      <td>Guillermo del Toro</td>\n",
       "    </tr>\n",
       "    <tr>\n",
       "      <th>1</th>\n",
       "      <td>ev0000003</td>\n",
       "      <td>Best Motion Picture of the Year</td>\n",
       "      <td>tt5580390</td>\n",
       "      <td>nm0197703</td>\n",
       "      <td>2018-03-04</td>\n",
       "      <td>True</td>\n",
       "      <td>Oscars</td>\n",
       "      <td>J. Miles Dale</td>\n",
       "    </tr>\n",
       "    <tr>\n",
       "      <th>2</th>\n",
       "      <td>ev0000003</td>\n",
       "      <td>Best Motion Picture of the Year</td>\n",
       "      <td>tt4555426</td>\n",
       "      <td>nm0079677</td>\n",
       "      <td>2018-03-04</td>\n",
       "      <td>False</td>\n",
       "      <td>Oscars</td>\n",
       "      <td>Tim Bevan</td>\n",
       "    </tr>\n",
       "    <tr>\n",
       "      <th>3</th>\n",
       "      <td>ev0000003</td>\n",
       "      <td>Best Motion Picture of the Year</td>\n",
       "      <td>tt4555426</td>\n",
       "      <td>nm0271479</td>\n",
       "      <td>2018-03-04</td>\n",
       "      <td>False</td>\n",
       "      <td>Oscars</td>\n",
       "      <td>Eric Fellner</td>\n",
       "    </tr>\n",
       "    <tr>\n",
       "      <th>4</th>\n",
       "      <td>ev0000003</td>\n",
       "      <td>Best Motion Picture of the Year</td>\n",
       "      <td>tt4555426</td>\n",
       "      <td>nm0115537</td>\n",
       "      <td>2018-03-04</td>\n",
       "      <td>False</td>\n",
       "      <td>Oscars</td>\n",
       "      <td>Lisa Bruce</td>\n",
       "    </tr>\n",
       "  </tbody>\n",
       "</table>\n",
       "</div>"
      ],
      "text/plain": [
       "    award_id                   award_category movie_imdb_id person_imdb_id  \\\n",
       "0  ev0000003  Best Motion Picture of the Year     tt5580390      nm0868219   \n",
       "1  ev0000003  Best Motion Picture of the Year     tt5580390      nm0197703   \n",
       "2  ev0000003  Best Motion Picture of the Year     tt4555426      nm0079677   \n",
       "3  ev0000003  Best Motion Picture of the Year     tt4555426      nm0271479   \n",
       "4  ev0000003  Best Motion Picture of the Year     tt4555426      nm0115537   \n",
       "\n",
       "   award_date  winner award_name         person_name  \n",
       "0  2018-03-04    True     Oscars  Guillermo del Toro  \n",
       "1  2018-03-04    True     Oscars       J. Miles Dale  \n",
       "2  2018-03-04   False     Oscars           Tim Bevan  \n",
       "3  2018-03-04   False     Oscars        Eric Fellner  \n",
       "4  2018-03-04   False     Oscars          Lisa Bruce  "
      ]
     },
     "execution_count": 7,
     "metadata": {},
     "output_type": "execute_result"
    }
   ],
   "source": [
    "movie_awards_df.head()"
   ]
  },
  {
   "cell_type": "code",
   "execution_count": 8,
   "metadata": {},
   "outputs": [],
   "source": [
    "madf = movie_awards_df[movie_awards_df.award_category == CATEGORY].drop(['person_imdb_id',\n",
    "                                                                         'person_name',\n",
    "                                                                         'award_id',\n",
    "                                                                         'award_name',\n",
    "                                                                         'award_category'],\n",
    "                                                                        axis=1).drop_duplicates()"
   ]
  },
  {
   "cell_type": "code",
   "execution_count": 9,
   "metadata": {},
   "outputs": [],
   "source": [
    "df_ = pd.merge(madf, \n",
    "               movies_df.drop(['release_year', 'countries', 'box_office', 'rt_url'], axis=1),\n",
    "               left_on='movie_imdb_id',\n",
    "               right_on='imdb_id').drop('imdb_id', axis=1)"
   ]
  },
  {
   "cell_type": "code",
   "execution_count": 10,
   "metadata": {},
   "outputs": [],
   "source": [
    "full_df = pd.merge(df_, reviews_df, on='movie_imdb_id').drop(['movie_imdb_id', 'type', 'reviewer_name'], axis=1)"
   ]
  },
  {
   "cell_type": "code",
   "execution_count": 11,
   "metadata": {},
   "outputs": [
    {
     "data": {
      "text/html": [
       "<div>\n",
       "<style scoped>\n",
       "    .dataframe tbody tr th:only-of-type {\n",
       "        vertical-align: middle;\n",
       "    }\n",
       "\n",
       "    .dataframe tbody tr th {\n",
       "        vertical-align: top;\n",
       "    }\n",
       "\n",
       "    .dataframe thead th {\n",
       "        text-align: right;\n",
       "    }\n",
       "</style>\n",
       "<table border=\"1\" class=\"dataframe\">\n",
       "  <thead>\n",
       "    <tr style=\"text-align: right;\">\n",
       "      <th></th>\n",
       "      <th>award_date</th>\n",
       "      <th>winner</th>\n",
       "      <th>title</th>\n",
       "      <th>directors</th>\n",
       "      <th>actors</th>\n",
       "      <th>runtime</th>\n",
       "      <th>genres</th>\n",
       "      <th>imdb_rating</th>\n",
       "      <th>imdb_votes</th>\n",
       "      <th>rt_tomato_score</th>\n",
       "      <th>rt_audience_score</th>\n",
       "      <th>reviewer_url</th>\n",
       "      <th>review_date</th>\n",
       "      <th>fresh</th>\n",
       "      <th>original_score</th>\n",
       "      <th>review_text</th>\n",
       "    </tr>\n",
       "  </thead>\n",
       "  <tbody>\n",
       "    <tr>\n",
       "      <th>0</th>\n",
       "      <td>2018-03-04</td>\n",
       "      <td>True</td>\n",
       "      <td>The Shape of Water</td>\n",
       "      <td>[Guillermo del Toro]</td>\n",
       "      <td>[Sally Hawkins, Michael Shannon, Richard Jenki...</td>\n",
       "      <td>123 min</td>\n",
       "      <td>[Adventure, Drama, Fantasy, Romance, Thriller]</td>\n",
       "      <td>7.4</td>\n",
       "      <td>273393.0</td>\n",
       "      <td>92.0</td>\n",
       "      <td>73.0</td>\n",
       "      <td>/critic/kyle-pinion/</td>\n",
       "      <td>2019-01-26</td>\n",
       "      <td>True</td>\n",
       "      <td>NaN</td>\n",
       "      <td>While it still falls short of his earlier triu...</td>\n",
       "    </tr>\n",
       "    <tr>\n",
       "      <th>1</th>\n",
       "      <td>2018-03-04</td>\n",
       "      <td>True</td>\n",
       "      <td>The Shape of Water</td>\n",
       "      <td>[Guillermo del Toro]</td>\n",
       "      <td>[Sally Hawkins, Michael Shannon, Richard Jenki...</td>\n",
       "      <td>123 min</td>\n",
       "      <td>[Adventure, Drama, Fantasy, Romance, Thriller]</td>\n",
       "      <td>7.4</td>\n",
       "      <td>273393.0</td>\n",
       "      <td>92.0</td>\n",
       "      <td>73.0</td>\n",
       "      <td>/critic/marshall-shaffer/</td>\n",
       "      <td>2019-01-23</td>\n",
       "      <td>True</td>\n",
       "      <td>NaN</td>\n",
       "      <td>If The Shape of Water were purely focused on E...</td>\n",
       "    </tr>\n",
       "    <tr>\n",
       "      <th>2</th>\n",
       "      <td>2018-03-04</td>\n",
       "      <td>True</td>\n",
       "      <td>The Shape of Water</td>\n",
       "      <td>[Guillermo del Toro]</td>\n",
       "      <td>[Sally Hawkins, Michael Shannon, Richard Jenki...</td>\n",
       "      <td>123 min</td>\n",
       "      <td>[Adventure, Drama, Fantasy, Romance, Thriller]</td>\n",
       "      <td>7.4</td>\n",
       "      <td>273393.0</td>\n",
       "      <td>92.0</td>\n",
       "      <td>73.0</td>\n",
       "      <td>/critic/andrew-wyatt/</td>\n",
       "      <td>2019-01-19</td>\n",
       "      <td>True</td>\n",
       "      <td>0.785714</td>\n",
       "      <td>A crystallization of timeless themes with exhi...</td>\n",
       "    </tr>\n",
       "    <tr>\n",
       "      <th>3</th>\n",
       "      <td>2018-03-04</td>\n",
       "      <td>True</td>\n",
       "      <td>The Shape of Water</td>\n",
       "      <td>[Guillermo del Toro]</td>\n",
       "      <td>[Sally Hawkins, Michael Shannon, Richard Jenki...</td>\n",
       "      <td>123 min</td>\n",
       "      <td>[Adventure, Drama, Fantasy, Romance, Thriller]</td>\n",
       "      <td>7.4</td>\n",
       "      <td>273393.0</td>\n",
       "      <td>92.0</td>\n",
       "      <td>73.0</td>\n",
       "      <td>/critic/orlando-maldonado/</td>\n",
       "      <td>2019-01-18</td>\n",
       "      <td>True</td>\n",
       "      <td>0.800000</td>\n",
       "      <td>Guillermo del Toro's latest ask us about toler...</td>\n",
       "    </tr>\n",
       "    <tr>\n",
       "      <th>4</th>\n",
       "      <td>2018-03-04</td>\n",
       "      <td>True</td>\n",
       "      <td>The Shape of Water</td>\n",
       "      <td>[Guillermo del Toro]</td>\n",
       "      <td>[Sally Hawkins, Michael Shannon, Richard Jenki...</td>\n",
       "      <td>123 min</td>\n",
       "      <td>[Adventure, Drama, Fantasy, Romance, Thriller]</td>\n",
       "      <td>7.4</td>\n",
       "      <td>273393.0</td>\n",
       "      <td>92.0</td>\n",
       "      <td>73.0</td>\n",
       "      <td>/critic/nathanael-hood/</td>\n",
       "      <td>2018-12-27</td>\n",
       "      <td>True</td>\n",
       "      <td>1.000000</td>\n",
       "      <td>Neil Gaiman once wrote that America is no plac...</td>\n",
       "    </tr>\n",
       "  </tbody>\n",
       "</table>\n",
       "</div>"
      ],
      "text/plain": [
       "   award_date  winner               title             directors  \\\n",
       "0  2018-03-04    True  The Shape of Water  [Guillermo del Toro]   \n",
       "1  2018-03-04    True  The Shape of Water  [Guillermo del Toro]   \n",
       "2  2018-03-04    True  The Shape of Water  [Guillermo del Toro]   \n",
       "3  2018-03-04    True  The Shape of Water  [Guillermo del Toro]   \n",
       "4  2018-03-04    True  The Shape of Water  [Guillermo del Toro]   \n",
       "\n",
       "                                              actors  runtime  \\\n",
       "0  [Sally Hawkins, Michael Shannon, Richard Jenki...  123 min   \n",
       "1  [Sally Hawkins, Michael Shannon, Richard Jenki...  123 min   \n",
       "2  [Sally Hawkins, Michael Shannon, Richard Jenki...  123 min   \n",
       "3  [Sally Hawkins, Michael Shannon, Richard Jenki...  123 min   \n",
       "4  [Sally Hawkins, Michael Shannon, Richard Jenki...  123 min   \n",
       "\n",
       "                                           genres  imdb_rating  imdb_votes  \\\n",
       "0  [Adventure, Drama, Fantasy, Romance, Thriller]          7.4    273393.0   \n",
       "1  [Adventure, Drama, Fantasy, Romance, Thriller]          7.4    273393.0   \n",
       "2  [Adventure, Drama, Fantasy, Romance, Thriller]          7.4    273393.0   \n",
       "3  [Adventure, Drama, Fantasy, Romance, Thriller]          7.4    273393.0   \n",
       "4  [Adventure, Drama, Fantasy, Romance, Thriller]          7.4    273393.0   \n",
       "\n",
       "   rt_tomato_score  rt_audience_score                reviewer_url review_date  \\\n",
       "0             92.0               73.0        /critic/kyle-pinion/  2019-01-26   \n",
       "1             92.0               73.0   /critic/marshall-shaffer/  2019-01-23   \n",
       "2             92.0               73.0       /critic/andrew-wyatt/  2019-01-19   \n",
       "3             92.0               73.0  /critic/orlando-maldonado/  2019-01-18   \n",
       "4             92.0               73.0     /critic/nathanael-hood/  2018-12-27   \n",
       "\n",
       "   fresh  original_score                                        review_text  \n",
       "0   True             NaN  While it still falls short of his earlier triu...  \n",
       "1   True             NaN  If The Shape of Water were purely focused on E...  \n",
       "2   True        0.785714  A crystallization of timeless themes with exhi...  \n",
       "3   True        0.800000  Guillermo del Toro's latest ask us about toler...  \n",
       "4   True        1.000000  Neil Gaiman once wrote that America is no plac...  "
      ]
     },
     "execution_count": 11,
     "metadata": {},
     "output_type": "execute_result"
    }
   ],
   "source": [
    "full_df.head()"
   ]
  },
  {
   "cell_type": "code",
   "execution_count": 12,
   "metadata": {},
   "outputs": [],
   "source": [
    "df = full_df[full_df.award_date > full_df.review_date][[\n",
    "    'award_date', 'winner', 'title', 'reviewer_url', 'fresh', 'original_score'\n",
    "]]"
   ]
  },
  {
   "cell_type": "code",
   "execution_count": 13,
   "metadata": {},
   "outputs": [],
   "source": [
    "df['year'] = df.apply(lambda x: x.award_date.year, axis=1)"
   ]
  },
  {
   "cell_type": "code",
   "execution_count": 14,
   "metadata": {},
   "outputs": [],
   "source": [
    "df = df.drop('award_date', axis=1)"
   ]
  },
  {
   "cell_type": "code",
   "execution_count": 15,
   "metadata": {},
   "outputs": [],
   "source": [
    "fmean = df.groupby('title', as_index=False)['fresh'].mean().rename(columns={'fresh': 'fresh_mean'})\n",
    "smean = df[df.original_score.notnull()].groupby('title', as_index=False)['original_score'].mean().rename(columns={'original_score': 'score_mean'})"
   ]
  },
  {
   "cell_type": "code",
   "execution_count": 16,
   "metadata": {},
   "outputs": [],
   "source": [
    "df2 = df[['winner', 'title', 'year']].drop_duplicates()\n",
    "df3 = pd.merge(df2, fmean)\n",
    "df3 = pd.merge(df3, smean)"
   ]
  },
  {
   "cell_type": "code",
   "execution_count": 19,
   "metadata": {
    "scrolled": true
   },
   "outputs": [
    {
     "data": {
      "text/html": [
       "<div>\n",
       "<style scoped>\n",
       "    .dataframe tbody tr th:only-of-type {\n",
       "        vertical-align: middle;\n",
       "    }\n",
       "\n",
       "    .dataframe tbody tr th {\n",
       "        vertical-align: top;\n",
       "    }\n",
       "\n",
       "    .dataframe thead th {\n",
       "        text-align: right;\n",
       "    }\n",
       "</style>\n",
       "<table border=\"1\" class=\"dataframe\">\n",
       "  <thead>\n",
       "    <tr style=\"text-align: right;\">\n",
       "      <th></th>\n",
       "      <th>winner</th>\n",
       "      <th>title</th>\n",
       "      <th>year</th>\n",
       "      <th>fresh_mean</th>\n",
       "      <th>score_mean</th>\n",
       "    </tr>\n",
       "  </thead>\n",
       "  <tbody>\n",
       "    <tr>\n",
       "      <th>0</th>\n",
       "      <td>True</td>\n",
       "      <td>The Shape of Water</td>\n",
       "      <td>2018</td>\n",
       "      <td>0.923529</td>\n",
       "      <td>0.827654</td>\n",
       "    </tr>\n",
       "    <tr>\n",
       "      <th>1</th>\n",
       "      <td>False</td>\n",
       "      <td>Darkest Hour</td>\n",
       "      <td>2018</td>\n",
       "      <td>0.858871</td>\n",
       "      <td>0.736528</td>\n",
       "    </tr>\n",
       "    <tr>\n",
       "      <th>2</th>\n",
       "      <td>False</td>\n",
       "      <td>The Post</td>\n",
       "      <td>2018</td>\n",
       "      <td>0.875776</td>\n",
       "      <td>0.785936</td>\n",
       "    </tr>\n",
       "    <tr>\n",
       "      <th>3</th>\n",
       "      <td>False</td>\n",
       "      <td>Dunkirk</td>\n",
       "      <td>2018</td>\n",
       "      <td>0.923077</td>\n",
       "      <td>0.856953</td>\n",
       "    </tr>\n",
       "    <tr>\n",
       "      <th>4</th>\n",
       "      <td>False</td>\n",
       "      <td>Lady Bird</td>\n",
       "      <td>2018</td>\n",
       "      <td>0.986755</td>\n",
       "      <td>0.860492</td>\n",
       "    </tr>\n",
       "  </tbody>\n",
       "</table>\n",
       "</div>"
      ],
      "text/plain": [
       "   winner               title  year  fresh_mean  score_mean\n",
       "0    True  The Shape of Water  2018    0.923529    0.827654\n",
       "1   False        Darkest Hour  2018    0.858871    0.736528\n",
       "2   False            The Post  2018    0.875776    0.785936\n",
       "3   False             Dunkirk  2018    0.923077    0.856953\n",
       "4   False           Lady Bird  2018    0.986755    0.860492"
      ]
     },
     "execution_count": 19,
     "metadata": {},
     "output_type": "execute_result"
    }
   ],
   "source": [
    "df3.head()"
   ]
  },
  {
   "cell_type": "markdown",
   "metadata": {},
   "source": [
    "## Winner percentage in years 2000-2018 is 17%"
   ]
  },
  {
   "cell_type": "code",
   "execution_count": 51,
   "metadata": {},
   "outputs": [
    {
     "name": "stderr",
     "output_type": "stream",
     "text": [
      "/usr/local/lib/python3.7/site-packages/ipykernel_launcher.py:1: UserWarning: Boolean Series key will be reindexed to match DataFrame index.\n",
      "  \"\"\"Entry point for launching an IPython kernel.\n"
     ]
    },
    {
     "data": {
      "text/plain": [
       "0.16964285714285715"
      ]
     },
     "execution_count": 51,
     "metadata": {},
     "output_type": "execute_result"
    }
   ],
   "source": [
    "len(df3[df3.year >= 2000][df3.winner == True]) / len(df3[df3.year >= 2000][df3.winner == False])"
   ]
  },
  {
   "cell_type": "markdown",
   "metadata": {},
   "source": [
    "## Check if score_mean predicts the winner"
   ]
  },
  {
   "cell_type": "code",
   "execution_count": 23,
   "metadata": {},
   "outputs": [],
   "source": [
    "df_year_max = df3.groupby(['year', 'winner'], as_index=False)['score_mean'].max()"
   ]
  },
  {
   "cell_type": "code",
   "execution_count": 47,
   "metadata": {},
   "outputs": [],
   "source": [
    "def winner_bigger(x, col):\n",
    "    s_true, s_false = -1, -1\n",
    "    for s, w in zip(x[col], x['winner']):\n",
    "        if w:\n",
    "            s_true = s\n",
    "        else:\n",
    "            s_false = s\n",
    "    return s_true > s_false"
   ]
  },
  {
   "cell_type": "code",
   "execution_count": 37,
   "metadata": {},
   "outputs": [],
   "source": [
    "pos_df = df_year_max[df_year_max.year >= 2000].groupby('year').apply(lambda x: winner_bigger(x, 'score_mean')).reset_index(name='positive')"
   ]
  },
  {
   "cell_type": "code",
   "execution_count": 44,
   "metadata": {},
   "outputs": [
    {
     "data": {
      "text/plain": [
       "0.42105263157894735"
      ]
     },
     "execution_count": 44,
     "metadata": {},
     "output_type": "execute_result"
    }
   ],
   "source": [
    "len(pos_df[pos_df.positive == True]) / 19"
   ]
  },
  {
   "cell_type": "markdown",
   "metadata": {},
   "source": [
    "### <font color=red> In 42% of cases score_mean predicted the winner </color>"
   ]
  },
  {
   "cell_type": "markdown",
   "metadata": {},
   "source": [
    "## Check if fresh_mean predicts the winner"
   ]
  },
  {
   "cell_type": "code",
   "execution_count": 48,
   "metadata": {},
   "outputs": [],
   "source": [
    "df_year_max = df3.groupby(['year', 'winner'], as_index=False)['fresh_mean'].max()"
   ]
  },
  {
   "cell_type": "code",
   "execution_count": 49,
   "metadata": {},
   "outputs": [],
   "source": [
    "pos_df = df_year_max[df_year_max.year >= 2000].groupby('year').apply(lambda x: winner_bigger(x, 'fresh_mean')).reset_index(name='positive')"
   ]
  },
  {
   "cell_type": "code",
   "execution_count": 50,
   "metadata": {},
   "outputs": [
    {
     "data": {
      "text/plain": [
       "0.2631578947368421"
      ]
     },
     "execution_count": 50,
     "metadata": {},
     "output_type": "execute_result"
    }
   ],
   "source": [
    "len(pos_df[pos_df.positive == True]) / 19"
   ]
  },
  {
   "cell_type": "markdown",
   "metadata": {},
   "source": [
    "### Only in 26% cases fresh_mean predicted the winner"
   ]
  },
  {
   "cell_type": "code",
   "execution_count": null,
   "metadata": {},
   "outputs": [],
   "source": []
  }
 ],
 "metadata": {
  "kernelspec": {
   "display_name": "Python 3",
   "language": "python",
   "name": "python3"
  },
  "language_info": {
   "codemirror_mode": {
    "name": "ipython",
    "version": 3
   },
   "file_extension": ".py",
   "mimetype": "text/x-python",
   "name": "python",
   "nbconvert_exporter": "python",
   "pygments_lexer": "ipython3",
   "version": "3.7.2"
  }
 },
 "nbformat": 4,
 "nbformat_minor": 2
}
