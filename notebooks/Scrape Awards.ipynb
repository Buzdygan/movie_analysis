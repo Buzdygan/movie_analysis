{
 "cells": [
  {
   "cell_type": "markdown",
   "metadata": {},
   "source": [
    "# INIT"
   ]
  },
  {
   "cell_type": "code",
   "execution_count": null,
   "metadata": {},
   "outputs": [],
   "source": [
    "import requests as rq\n",
    "import re\n",
    "import traceback\n",
    "import datetime\n",
    "from collections import Counter\n",
    "from bs4 import BeautifulSoup\n",
    "\n",
    "from storage import session_scope, MovieAward\n",
    "from constants import GLOBES_BEST_DRAMA, GLOBES_BEST_COMEDY, CRITICS_BEST_FILM, \\\n",
    "    PGA_BEST_FILM, DGA_BEST_FILM, BAFTA_BEST_FILM, CANNES_BEST_FILM, SAG_BEST_FILM"
   ]
  },
  {
   "cell_type": "code",
   "execution_count": null,
   "metadata": {},
   "outputs": [],
   "source": [
    "WIKI_BASE = 'https://en.wikipedia.org'"
   ]
  },
  {
   "cell_type": "code",
   "execution_count": null,
   "metadata": {},
   "outputs": [],
   "source": [
    "def save_awards(category, awards):\n",
    "    with session_scope() as session:\n",
    "        movie_awards = [\n",
    "             MovieAward(award_category=category,\n",
    "                        movie_title=title,\n",
    "                        movie_wiki_url=wiki_url,\n",
    "                        winner=winner,\n",
    "                        award_date=datetime.date(int(year), 1, 1))\n",
    "             for year, title, wiki_url, winner in awards\n",
    "        ]\n",
    "        session.bulk_save_objects(movie_awards)"
   ]
  },
  {
   "cell_type": "markdown",
   "metadata": {},
   "source": [
    "# Cannes"
   ]
  },
  {
   "cell_type": "code",
   "execution_count": null,
   "metadata": {},
   "outputs": [],
   "source": [
    "winners_soup = BeautifulSoup(rq.get('https://en.wikipedia.org/wiki/Palme_d%27Or').text, 'lxml')"
   ]
  },
  {
   "cell_type": "code",
   "execution_count": null,
   "metadata": {},
   "outputs": [],
   "source": [
    "winner_elements = winners_soup.find('div', {'id': 'Palme_d&#039;Or_winning_films'}).findNext('ul').find_all('li')"
   ]
  },
  {
   "cell_type": "code",
   "execution_count": null,
   "metadata": {},
   "outputs": [],
   "source": [
    "winner_elements = winners_soup.find('div', {'id': 'Palme_d&#039;Or_winning_films'}).findNext('ul').find_all('li')\n",
    "winners = dict()\n",
    "for wel in winner_elements:\n",
    "    year = int(re.search('[\\d]{4}', wel.text).group(0))\n",
    "    a = wel.find('a')\n",
    "    href = a.get('href')\n",
    "    title = a.get('title')\n",
    "    winners[href] = (year, title)"
   ]
  },
  {
   "cell_type": "code",
   "execution_count": null,
   "metadata": {},
   "outputs": [],
   "source": [
    "table_years = set([1991, 1993, 1994] + list(range(2007, 2019)))"
   ]
  },
  {
   "cell_type": "code",
   "execution_count": null,
   "metadata": {},
   "outputs": [],
   "source": [
    "cannes_results = []\n",
    "for year in range(1970, 2019):\n",
    "    print(year)\n",
    "    soup = BeautifulSoup(rq.get(f'https://en.wikipedia.org/wiki/{year}_Cannes_Film_Festival').text, 'lxml')\n",
    "    tag = next(x for x in soup.find_all('span', {'class': 'mw-headline'}) if x.text.lower().startswith('in competition'))\n",
    "    if not tag:\n",
    "        raise\n",
    "    if year in table_years:\n",
    "        elements = tag.findNext('tbody').find_all('tr')[1:]\n",
    "    else:\n",
    "        elements = tag.findNext('ul').find_all('li')\n",
    "    for el in elements:\n",
    "        a = el.findNext('a')\n",
    "        href, title = a.get('href'), a.get('title')\n",
    "        winner = href in winners\n",
    "        cannes_results.append((year, title, href, winner))"
   ]
  },
  {
   "cell_type": "code",
   "execution_count": null,
   "metadata": {},
   "outputs": [],
   "source": [
    "save_awards(CANNES_BEST_FILM, list(set(cannes_results)))"
   ]
  },
  {
   "cell_type": "markdown",
   "metadata": {},
   "source": [
    "# SAG"
   ]
  },
  {
   "cell_type": "code",
   "execution_count": null,
   "metadata": {},
   "outputs": [],
   "source": [
    "sag_soup = BeautifulSoup(rq.get('https://en.wikipedia.org/wiki/Screen_Actors_Guild_Award_for_Outstanding_Performance_by_a_Cast_in_a_Motion_Picture').text, 'lxml')"
   ]
  },
  {
   "cell_type": "code",
   "execution_count": null,
   "metadata": {},
   "outputs": [],
   "source": [
    "sag_results = []\n",
    "current_year = 1\n",
    "for table in sag_soup.find_all('table', {'class': 'wikitable'}):\n",
    "    for row in table.find_all('tr')[1:]:\n",
    "        columns = row.find_all('td')\n",
    "        if len(columns) == 3:\n",
    "            current_year = int(re.search('[\\d]{4}', columns[0].text).group(0))\n",
    "            film_col = columns[1]\n",
    "        elif len(columns) == 2:\n",
    "            film_col = columns[0]\n",
    "        else:\n",
    "            print(f\"Wrong number of columns in {row}\")\n",
    "            \n",
    "        winner = film_col.get('style') == 'background:#FAEB86;'\n",
    "        try:\n",
    "            a = film_col.find('a')\n",
    "            sag_results.append((current_year, a.get('title'), a.get('href'), winner))\n",
    "        except:\n",
    "            print(f\"Problem with {row}\")\n",
    "            traceback.print_exc()\n",
    "            "
   ]
  },
  {
   "cell_type": "code",
   "execution_count": null,
   "metadata": {},
   "outputs": [],
   "source": [
    "save_awards(SAG_BEST_FILM, sag_results)"
   ]
  },
  {
   "cell_type": "markdown",
   "metadata": {},
   "source": [
    "# BAFTA"
   ]
  },
  {
   "cell_type": "code",
   "execution_count": null,
   "metadata": {},
   "outputs": [],
   "source": [
    "bafta_soup = BeautifulSoup(rq.get('https://en.wikipedia.org/wiki/BAFTA_Award_for_Best_Film').text, 'lxml')"
   ]
  },
  {
   "cell_type": "code",
   "execution_count": null,
   "metadata": {},
   "outputs": [],
   "source": [
    "bafta_results = []\n",
    "current_year = 1\n",
    "for table in bafta_soup.find_all('table', {'class': 'wikitable'})[2:]:\n",
    "    for row in table.find_all('tr')[1:]:\n",
    "        columns = row.find_all('td')\n",
    "        if len(columns) == 1:\n",
    "            current_year = int(re.search('[\\d]{4}', columns[0].text).group(0))\n",
    "            continue\n",
    "        elif len(columns) == 5:\n",
    "            film_col = columns[1]\n",
    "        elif len(columns) == 4:\n",
    "            film_col = columns[0]\n",
    "        else:\n",
    "            print(f\"Wrong number of columns in {row}\")\n",
    "            \n",
    "        winner = film_col.get('style') == 'background:#ccc;'\n",
    "        try:\n",
    "            a = film_col.find('a')\n",
    "            bafta_results.append((current_year, a.get('title'), a.get('href'), winner))\n",
    "        except:\n",
    "            print(f\"Problem with {row}\")\n",
    "            traceback.print_exc()\n",
    "            "
   ]
  },
  {
   "cell_type": "code",
   "execution_count": null,
   "metadata": {},
   "outputs": [],
   "source": [
    "save_awards(BAFTA_BEST_FILM, bafta_results)"
   ]
  },
  {
   "cell_type": "markdown",
   "metadata": {},
   "source": [
    "# DGA"
   ]
  },
  {
   "cell_type": "code",
   "execution_count": null,
   "metadata": {},
   "outputs": [],
   "source": [
    "dga_soup = BeautifulSoup(rq.get('https://en.wikipedia.org/wiki/Directors_Guild_of_America_Award_for_Outstanding_Directing_%E2%80%93_Feature_Film').text, 'lxml')"
   ]
  },
  {
   "cell_type": "code",
   "execution_count": null,
   "metadata": {},
   "outputs": [],
   "source": [
    "dga_results = []\n",
    "current_year = 1\n",
    "for table in dga_soup.find_all('table', {'class': 'wikitable'}):\n",
    "    for row in table.find_all('tr')[1:]:\n",
    "        columns = row.find_all('td')\n",
    "        if len(columns) == 4:\n",
    "            current_year = int(re.search('[\\d]{4}', columns[0].text).group(0))\n",
    "            film_col = columns[2]\n",
    "        else:\n",
    "            film_col = columns[1]\n",
    "        if columns[1].get('style') == 'background:#FAEB86;':\n",
    "            winner = True\n",
    "        else:\n",
    "            winner = False\n",
    "        try:\n",
    "            a = film_col.find('i').find('a')\n",
    "            dga_results.append((current_year, a.get('title'), a.get('href'), winner))\n",
    "        except:\n",
    "            print(f\"Problem with {row}\")\n",
    "            traceback.print_exc()"
   ]
  },
  {
   "cell_type": "code",
   "execution_count": null,
   "metadata": {},
   "outputs": [],
   "source": [
    "save_awards(DGA_BEST_FILM, dga_results)"
   ]
  },
  {
   "cell_type": "markdown",
   "metadata": {},
   "source": [
    "# PGA"
   ]
  },
  {
   "cell_type": "code",
   "execution_count": null,
   "metadata": {},
   "outputs": [],
   "source": [
    "pga_soup = BeautifulSoup(rq.get('https://en.wikipedia.org/wiki/Producers_Guild_of_America_Award_for_Best_Theatrical_Motion_Picture').text, 'lxml')"
   ]
  },
  {
   "cell_type": "code",
   "execution_count": null,
   "metadata": {},
   "outputs": [],
   "source": [
    "pga_results = []\n",
    "current_year = 1\n",
    "for table in pga_soup.find_all('table', {'class': 'wikitable'}):\n",
    "    for row in table.find_all('tr')[1:]:\n",
    "        columns = row.find_all('td')\n",
    "        if len(columns) == 4:\n",
    "            current_year = int(re.search('[\\d]{4}', columns[0].text).group(0))\n",
    "            film_col = columns[1]\n",
    "        else:\n",
    "            film_col = columns[0]\n",
    "        if columns[1].get('style') == 'background:#FAEB86;':\n",
    "            winner = True\n",
    "        else:\n",
    "            winner = False\n",
    "        try:\n",
    "            a = film_col.find('i').find('a')\n",
    "            pga_results.append((current_year, a.get('title'), a.get('href'), winner))\n",
    "        except:\n",
    "            print(f\"Problem with {row}\")\n",
    "            traceback.print_exc()"
   ]
  },
  {
   "cell_type": "code",
   "execution_count": null,
   "metadata": {},
   "outputs": [],
   "source": [
    "save_awards(PGA_BEST_FILM, pga_results)"
   ]
  },
  {
   "cell_type": "markdown",
   "metadata": {},
   "source": [
    "# Golden Globes DRAMA"
   ]
  },
  {
   "cell_type": "code",
   "execution_count": null,
   "metadata": {},
   "outputs": [],
   "source": [
    "soup = BeautifulSoup(rq.get('https://en.wikipedia.org/wiki/Golden_Globe_Award_for_Best_Motion_Picture_%E2%80%93_Drama').text, 'lxml')"
   ]
  },
  {
   "cell_type": "code",
   "execution_count": null,
   "metadata": {},
   "outputs": [],
   "source": [
    "globe_drama_results = []\n",
    "current_year = 1\n",
    "for table in soup.find_all('table', {'class': 'wikitable'}):\n",
    "    for row in table.find_all('tr')[1:]:\n",
    "        columns = row.find_all('td')\n",
    "        if len(columns) == 4:\n",
    "            current_year = columns[0].text.split('[')[0]\n",
    "            film_col = columns[1]\n",
    "        else:\n",
    "            film_col = columns[0]\n",
    "        if columns[1].get('style'):\n",
    "            winner = True\n",
    "        else:\n",
    "            winner = False\n",
    "        a = film_col.find('i').find('a')\n",
    "        globe_drama_results.append((current_year, a.get('title'), a.get('href'), winner))\n",
    "save_awards(GLOBES_BEST_DRAMA, globe_drama_results)"
   ]
  },
  {
   "cell_type": "markdown",
   "metadata": {},
   "source": [
    "# Golden Globes COMEDY"
   ]
  },
  {
   "cell_type": "code",
   "execution_count": null,
   "metadata": {},
   "outputs": [],
   "source": [
    "globes_comedy_soup = BeautifulSoup(rq.get('https://en.wikipedia.org/wiki/Golden_Globe_Award_for_Best_Motion_Picture_%E2%80%93_Musical_or_Comedy').text, 'lxml')"
   ]
  },
  {
   "cell_type": "code",
   "execution_count": null,
   "metadata": {},
   "outputs": [],
   "source": [
    "globe_comedy_results = []\n",
    "current_year = 1\n",
    "for table in globes_comedy_soup.find_all('table', {'class': 'wikitable'}):\n",
    "    for row in table.find_all('tr')[1:]:\n",
    "        columns = row.find_all('td')\n",
    "        if len(columns) == 4:\n",
    "            current_year = columns[0].text.split('[')[0]\n",
    "            film_col = columns[1]\n",
    "        else:\n",
    "            film_col = columns[0]\n",
    "        if columns[1].get('style'):\n",
    "            winner = True\n",
    "        else:\n",
    "            winner = False\n",
    "        try:\n",
    "            a = film_col.find('i').find('a')\n",
    "            globe_comedy_results.append((current_year, a.get('title'), a.get('href'), winner))\n",
    "        except:\n",
    "            print(f\"Problem with {row}\")\n",
    "            traceback.print_exc()"
   ]
  },
  {
   "cell_type": "code",
   "execution_count": null,
   "metadata": {},
   "outputs": [],
   "source": [
    "save_awards(GLOBES_BEST_COMEDY, globe_comedy_results)"
   ]
  },
  {
   "cell_type": "markdown",
   "metadata": {},
   "source": [
    "# Oscar Best Film"
   ]
  },
  {
   "cell_type": "code",
   "execution_count": null,
   "metadata": {},
   "outputs": [],
   "source": [
    "oscar_soup = BeautifulSoup(rq.get('https://en.wikipedia.org/wiki/Academy_Award_for_Best_Picture').text, 'lxml')"
   ]
  },
  {
   "cell_type": "code",
   "execution_count": null,
   "metadata": {},
   "outputs": [],
   "source": [
    "oscar_results = []\n",
    "current_year = 1\n",
    "for table in oscar_soup.find_all('table', {'class': 'wikitable'}):\n",
    "    for row in table.find_all('tr')[1:]:\n",
    "        columns = row.find_all('td')\n",
    "        if len(columns) == 1:\n",
    "            current_year = int(re.search('[\\d]{4}', columns[0].text).group(0))\n",
    "        elif len(columns) == 2:\n",
    "            film_col = columns[0]\n",
    "            if row.get('style') == 'background:#FAEB86':\n",
    "                winner = True\n",
    "            else:\n",
    "                winner = False\n",
    "            try:\n",
    "                a = film_col.find('i').find('a')\n",
    "                oscar_results.append((current_year, a.get('title'), a.get('href'), winner))\n",
    "            except:\n",
    "                print(f\"Problem with {row}\")\n",
    "                traceback.print_exc()\n",
    "        else:\n",
    "            print(f\"Wrong number of columns in {row}\")"
   ]
  },
  {
   "cell_type": "code",
   "execution_count": null,
   "metadata": {},
   "outputs": [],
   "source": [
    "save_awards('oscars', oscar_results)"
   ]
  },
  {
   "cell_type": "markdown",
   "metadata": {},
   "source": [
    "# Critics Choice"
   ]
  },
  {
   "cell_type": "code",
   "execution_count": null,
   "metadata": {},
   "outputs": [],
   "source": [
    "cc_all_soup = BeautifulSoup(rq.get('https://en.wikipedia.org/wiki/Critics%27_Choice_Movie_Awards').text, 'lxml')"
   ]
  },
  {
   "cell_type": "code",
   "execution_count": null,
   "metadata": {},
   "outputs": [],
   "source": [
    "cc_urls = [li.find('a').get('href')\n",
    "           for li in cc_all_soup.find_all('td', {'class': 'navbox-list navbox-odd hlist'})[1].find_all('li')][1:]"
   ]
  },
  {
   "cell_type": "code",
   "execution_count": null,
   "metadata": {},
   "outputs": [],
   "source": [
    "results_1996_2000 = []\n",
    "for year, cc_year_url in list(zip(range(1996, 2001), cc_urls[:5])):\n",
    "    cc_soup = BeautifulSoup(rq.get(WIKI_BASE + cc_year_url).text, 'lxml')\n",
    "    winner_url = [x for x in cc_soup.find_all('b') if x.text.startswith('Best Picture')][0].findNext('a').get('href')\n",
    "    for x in cc_soup.find('ol').find_all('li'):\n",
    "        a = x.find('a')\n",
    "        href, title = a.get('href'), a.get('title')\n",
    "        winner = href == winner_url\n",
    "        results_1996_2000.append((year, title, href, winner))"
   ]
  },
  {
   "cell_type": "code",
   "execution_count": null,
   "metadata": {},
   "outputs": [],
   "source": [
    "results_2001_2013 = []\n",
    "for year, cc_year_url in list(zip(range(2001, 2014), cc_urls[5:18])):\n",
    "    print(year)\n",
    "    cc_soup = BeautifulSoup(rq.get(WIKI_BASE + cc_year_url).text, 'lxml')\n",
    "    winner_tag = cc_soup.find('span', {'class': 'mw-headline', 'id': 'Best_Picture'}).findNext('p').find('a')\n",
    "    results_2001_2013.append((year, winner_tag.get('title'), winner_tag.get('href'), True))\n",
    "    for a in winner_tag.findNext('ul').find_all('a'):\n",
    "        results_2001_2013.append((year, a.get('title'), a.get('href'), False)) "
   ]
  },
  {
   "cell_type": "code",
   "execution_count": null,
   "metadata": {},
   "outputs": [],
   "source": [
    "results_2014_2018 = []\n",
    "for year, cc_year_url in list(zip(range(2014, 2019), cc_urls[18:])):\n",
    "    print(year)\n",
    "    cc_soup = BeautifulSoup(rq.get(WIKI_BASE + cc_year_url).text, 'lxml')\n",
    "    winner = True\n",
    "    for a in next(x for x in cc_soup.find_all('div') if x.text.startswith('Best Picture')).findNext('ul').find_all('a'):\n",
    "        results_2014_2018.append((year, a.get('title'), a.get('href'), winner))\n",
    "        winner = False"
   ]
  },
  {
   "cell_type": "code",
   "execution_count": null,
   "metadata": {},
   "outputs": [],
   "source": [
    "save_awards(CRITICS_BEST_FILM, results_1996_2000 + results_2001_2013 + results_2014_2018)"
   ]
  }
 ],
 "metadata": {
  "kernelspec": {
   "display_name": "Python 3",
   "language": "python",
   "name": "python3"
  },
  "language_info": {
   "codemirror_mode": {
    "name": "ipython",
    "version": 3
   },
   "file_extension": ".py",
   "mimetype": "text/x-python",
   "name": "python",
   "nbconvert_exporter": "python",
   "pygments_lexer": "ipython3",
   "version": "3.7.2"
  }
 },
 "nbformat": 4,
 "nbformat_minor": 2
}
